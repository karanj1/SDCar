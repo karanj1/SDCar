{
 "cells": [
  {
   "cell_type": "code",
   "execution_count": 1,
   "metadata": {
    "collapsed": true
   },
   "outputs": [],
   "source": [
    "import pickle\n",
    "import cv2\n",
    "import numpy as np\n",
    "import matplotlib.pyplot as plt\n",
    "import matplotlib.image as mpimg\n",
    "import pickle\n",
    "from collections import deque\n",
    "import glob\n",
    "import imageio\n",
    "# Import everything needed to edit/save/watch video clips\n",
    "from moviepy.editor import VideoFileClip\n",
    "from IPython.display import HTML\n",
    "%matplotlib inline\n"
   ]
  },
  {
   "cell_type": "code",
   "execution_count": 2,
   "metadata": {
    "collapsed": false
   },
   "outputs": [
    {
     "name": "stdout",
     "output_type": "stream",
     "text": [
      "[ 190.    0.] [ 1145.     0.]\n"
     ]
    }
   ],
   "source": [
    "corners = np.float32([[190,720],[589,457],[698,457],[1145,720]])\n",
    "new_top_left=np.array([corners[0,0],0])\n",
    "new_top_right=np.array([corners[3,0],0])\n",
    "offset=[150,0]\n",
    "print(new_top_left,new_top_right)"
   ]
  },
  {
   "cell_type": "code",
   "execution_count": 3,
   "metadata": {
    "collapsed": false
   },
   "outputs": [
    {
     "name": "stdout",
     "output_type": "stream",
     "text": [
      "[0 0 0 1 1 1 2 2 2] [0 1 2 0 1 2 0 1 2]\n"
     ]
    },
    {
     "data": {
      "text/plain": [
       "(array([1, 1, 1, 2, 2, 2]), array([0, 1, 2, 0, 1, 2]))"
      ]
     },
     "execution_count": 3,
     "metadata": {},
     "output_type": "execute_result"
    }
   ],
   "source": [
    "a = np.array([[1,2,3],[4,5,6],[7,8,9]])\n",
    "\n",
    "nonzero = a.nonzero()\n",
    "nonzeroy = np.array(nonzero[0])\n",
    "nonzerox = np.array(nonzero[1])\n",
    "print(nonzeroy,nonzerox)\n",
    "np.nonzero(a > 3)    "
   ]
  },
  {
   "cell_type": "code",
   "execution_count": 4,
   "metadata": {
    "collapsed": false
   },
   "outputs": [
    {
     "data": {
      "text/plain": [
       "array([1, 1, 1, 2, 2, 2])"
      ]
     },
     "execution_count": 4,
     "metadata": {},
     "output_type": "execute_result"
    }
   ],
   "source": [
    "(a > 3).nonzero()[0]"
   ]
  },
  {
   "cell_type": "code",
   "execution_count": 5,
   "metadata": {
    "collapsed": false
   },
   "outputs": [
    {
     "data": {
      "text/plain": [
       "array([1, 1, 1, 2, 2, 2])"
      ]
     },
     "execution_count": 5,
     "metadata": {},
     "output_type": "execute_result"
    }
   ],
   "source": [
    "nonzerox[(a > 3).nonzero()[0]]"
   ]
  },
  {
   "cell_type": "code",
   "execution_count": 6,
   "metadata": {
    "collapsed": false
   },
   "outputs": [
    {
     "name": "stdout",
     "output_type": "stream",
     "text": [
      "[[  0  20   0]\n",
      " [ 30 100  40]\n",
      " [  0  50   0]]\n"
     ]
    }
   ],
   "source": [
    "#Suppose your have this array:\n",
    "myarray = np.array([[0, 20, 0],[30, 100, 40], [0,50,0]])\n",
    "print(myarray)"
   ]
  },
  {
   "cell_type": "code",
   "execution_count": 8,
   "metadata": {
    "collapsed": false
   },
   "outputs": [
    {
     "name": "stdout",
     "output_type": "stream",
     "text": [
      "(array([0, 1, 1, 1, 2]), array([1, 0, 1, 2, 1]))\n"
     ]
    }
   ],
   "source": [
    "#Step 1: Non Zero indices\n",
    "\n",
    "nonzero_myarray = myarray.nonzero()\n",
    "print(nonzero_myarray)\n",
    "\n",
    "nonzerox = nonzero_myarray[1]\n",
    "nonzeroy = nonzero_myarray[0]"
   ]
  },
  {
   "cell_type": "code",
   "execution_count": 9,
   "metadata": {
    "collapsed": false
   },
   "outputs": [
    {
     "name": "stdout",
     "output_type": "stream",
     "text": [
      "[False  True  True  True  True]\n",
      "[ True False  True  True  True]\n",
      "[False False  True  True  True]\n",
      "[2 3 4]\n"
     ]
    }
   ],
   "source": [
    "#Step 2: Find Target indices\n",
    "\n",
    "#So the non-zero y indices for the our search criteria (non zero values excluding 1st row):\n",
    "print(nonzeroy >= 1)\n",
    "\n",
    "#So the non-zero x indices for the our search criteria (non zero values excluding 1st column):\n",
    "print(nonzerox >= 1)\n",
    "\n",
    "#Combining these 2 criteria we get:\n",
    "good_indices = ((nonzeroy >= 1) & (nonzerox >= 1))\n",
    "print(good_indices)\n",
    "\n",
    "good_indices = good_indices.nonzero()[0]\n",
    "print(good_indices)"
   ]
  },
  {
   "cell_type": "code",
   "execution_count": 10,
   "metadata": {
    "collapsed": false
   },
   "outputs": [
    {
     "name": "stdout",
     "output_type": "stream",
     "text": [
      "[1 2 1]\n",
      "[1 1 2]\n"
     ]
    }
   ],
   "source": [
    "#Step 3: Find the target y & x indices\n",
    "\n",
    "good_x = nonzerox[good_indices]\n",
    "print(good_x)\n",
    "\n",
    "good_y = nonzeroy[good_indices]\n",
    "print(good_y)\n"
   ]
  },
  {
   "cell_type": "code",
   "execution_count": 11,
   "metadata": {
    "collapsed": false
   },
   "outputs": [
    {
     "name": "stdout",
     "output_type": "stream",
     "text": [
      "[[ 0 20  0]\n",
      " [30 -1 -1]\n",
      " [ 0 -1  0]]\n"
     ]
    }
   ],
   "source": [
    "#Step 4: Set the value of these indices to -1\n",
    "\n",
    "myarray[good_y, good_x] = -1\n",
    "\n",
    "print(myarray)"
   ]
  },
  {
   "cell_type": "code",
   "execution_count": null,
   "metadata": {
    "collapsed": true
   },
   "outputs": [],
   "source": []
  }
 ],
 "metadata": {
  "kernelspec": {
   "display_name": "Python 3",
   "language": "python",
   "name": "python3"
  },
  "language_info": {
   "codemirror_mode": {
    "name": "ipython",
    "version": 3
   },
   "file_extension": ".py",
   "mimetype": "text/x-python",
   "name": "python",
   "nbconvert_exporter": "python",
   "pygments_lexer": "ipython3",
   "version": "3.5.2"
  },
  "widgets": {
   "state": {},
   "version": "1.1.2"
  }
 },
 "nbformat": 4,
 "nbformat_minor": 2
}
