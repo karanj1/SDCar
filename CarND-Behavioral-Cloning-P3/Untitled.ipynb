{
 "cells": [
  {
   "cell_type": "code",
   "execution_count": 50,
   "metadata": {
    "collapsed": false
   },
   "outputs": [
    {
     "name": "stdout",
     "output_type": "stream",
     "text": [
      "StratifiedShuffleSplit(n_splits=2, random_state=0, test_size=0.5,\n",
      "            train_size=None) 2\n"
     ]
    }
   ],
   "source": [
    "import numpy as np\n",
    "from sklearn.model_selection import StratifiedShuffleSplit\n",
    "X = np.array([[1, 2], [3, 4], [1, 2], [3, 4], [8, 1], [7, 2], [5, 4], [6, 3], [1, 4], [2, 3]])\n",
    "y = np.array([0, 0, 1, 1, 2, 2, 3, 3, 4 ,4])\n",
    "sss = StratifiedShuffleSplit(n_splits=2, test_size=0.5, random_state=0)\n",
    "\n",
    "print(sss, sss.get_n_splits(X, y))       \n"
   ]
  },
  {
   "cell_type": "code",
   "execution_count": 51,
   "metadata": {
    "collapsed": false
   },
   "outputs": [
    {
     "name": "stdout",
     "output_type": "stream",
     "text": [
      "\n",
      ">TRAIN: [1 4 2 8 7] >TEST: [3 6 9 0 5]\n",
      "[[3 4]\n",
      " [8 1]\n",
      " [1 2]\n",
      " [1 4]\n",
      " [6 3]]\n",
      "\n",
      " [[3 4]\n",
      " [5 4]\n",
      " [2 3]\n",
      " [1 2]\n",
      " [7 2]]\n",
      "\n",
      " [0 2 1 4 3] [1 3 4 0 2]\n",
      "\n",
      ">TRAIN: [9 5 6 3 1] >TEST: [4 7 8 2 0]\n",
      "[[2 3]\n",
      " [7 2]\n",
      " [5 4]\n",
      " [3 4]\n",
      " [3 4]]\n",
      "\n",
      " [[8 1]\n",
      " [6 3]\n",
      " [1 4]\n",
      " [1 2]\n",
      " [1 2]]\n",
      "\n",
      " [4 2 3 1 0] [2 3 4 1 0]\n"
     ]
    }
   ],
   "source": [
    "for train_index, test_index in sss.split(X, y):\n",
    "    print(\"\\n>TRAIN:\", train_index, \">TEST:\", test_index)\n",
    "    X_train, X_test = X[train_index], X[test_index]\n",
    "    y_train, y_test = y[train_index], y[test_index]\n",
    "    print(X_train)\n",
    "    print(\"\\n\", X_test)\n",
    "    print(\"\\n\", y_train, y_test)"
   ]
  },
  {
   "cell_type": "code",
   "execution_count": 14,
   "metadata": {
    "collapsed": false
   },
   "outputs": [
    {
     "name": "stdout",
     "output_type": "stream",
     "text": [
      "[[ 0.  0.  0.]\n",
      " [ 1.  0.  0.]\n",
      " [ 2.  0.  0.]\n",
      " [ 3.  0.  0.]\n",
      " [ 4.  0.  0.]\n",
      " [ 5.  0.  0.]\n",
      " [ 6.  0.  0.]\n",
      " [ 7.  0.  0.]\n",
      " [ 0.  1.  0.]\n",
      " [ 1.  1.  0.]\n",
      " [ 2.  1.  0.]\n",
      " [ 3.  1.  0.]\n",
      " [ 4.  1.  0.]\n",
      " [ 5.  1.  0.]\n",
      " [ 6.  1.  0.]\n",
      " [ 7.  1.  0.]\n",
      " [ 0.  2.  0.]\n",
      " [ 1.  2.  0.]\n",
      " [ 2.  2.  0.]\n",
      " [ 3.  2.  0.]\n",
      " [ 4.  2.  0.]\n",
      " [ 5.  2.  0.]\n",
      " [ 6.  2.  0.]\n",
      " [ 7.  2.  0.]\n",
      " [ 0.  3.  0.]\n",
      " [ 1.  3.  0.]\n",
      " [ 2.  3.  0.]\n",
      " [ 3.  3.  0.]\n",
      " [ 4.  3.  0.]\n",
      " [ 5.  3.  0.]\n",
      " [ 6.  3.  0.]\n",
      " [ 7.  3.  0.]\n",
      " [ 0.  4.  0.]\n",
      " [ 1.  4.  0.]\n",
      " [ 2.  4.  0.]\n",
      " [ 3.  4.  0.]\n",
      " [ 4.  4.  0.]\n",
      " [ 5.  4.  0.]\n",
      " [ 6.  4.  0.]\n",
      " [ 7.  4.  0.]\n",
      " [ 0.  5.  0.]\n",
      " [ 1.  5.  0.]\n",
      " [ 2.  5.  0.]\n",
      " [ 3.  5.  0.]\n",
      " [ 4.  5.  0.]\n",
      " [ 5.  5.  0.]\n",
      " [ 6.  5.  0.]\n",
      " [ 7.  5.  0.]] [[0 0]\n",
      " [1 0]\n",
      " [2 0]\n",
      " [3 0]\n",
      " [4 0]\n",
      " [5 0]\n",
      " [6 0]\n",
      " [7 0]\n",
      " [0 1]\n",
      " [1 1]\n",
      " [2 1]\n",
      " [3 1]\n",
      " [4 1]\n",
      " [5 1]\n",
      " [6 1]\n",
      " [7 1]\n",
      " [0 2]\n",
      " [1 2]\n",
      " [2 2]\n",
      " [3 2]\n",
      " [4 2]\n",
      " [5 2]\n",
      " [6 2]\n",
      " [7 2]\n",
      " [0 3]\n",
      " [1 3]\n",
      " [2 3]\n",
      " [3 3]\n",
      " [4 3]\n",
      " [5 3]\n",
      " [6 3]\n",
      " [7 3]\n",
      " [0 4]\n",
      " [1 4]\n",
      " [2 4]\n",
      " [3 4]\n",
      " [4 4]\n",
      " [5 4]\n",
      " [6 4]\n",
      " [7 4]\n",
      " [0 5]\n",
      " [1 5]\n",
      " [2 5]\n",
      " [3 5]\n",
      " [4 5]\n",
      " [5 5]\n",
      " [6 5]\n",
      " [7 5]]\n"
     ]
    }
   ],
   "source": [
    "import numpy as np\n",
    "import cv2\n",
    "import matplotlib.pyplot as plt\n",
    "import matplotlib.image as mpimg\n",
    "%matplotlib inline\n",
    "\n",
    "objp = np.zeros((6*8,3), np.float32)\n",
    "objp[:,:2] = np.mgrid[0:8,0:6].T.reshape(-1,2)\n",
    "print(objp,np.mgrid[0:8,0:6].T.reshape(-1,2))"
   ]
  },
  {
   "cell_type": "code",
   "execution_count": null,
   "metadata": {
    "collapsed": true
   },
   "outputs": [],
   "source": []
  }
 ],
 "metadata": {
  "kernelspec": {
   "display_name": "Python 3",
   "language": "python",
   "name": "python3"
  },
  "language_info": {
   "codemirror_mode": {
    "name": "ipython",
    "version": 3
   },
   "file_extension": ".py",
   "mimetype": "text/x-python",
   "name": "python",
   "nbconvert_exporter": "python",
   "pygments_lexer": "ipython3",
   "version": "3.5.2"
  },
  "widgets": {
   "state": {},
   "version": "1.1.2"
  }
 },
 "nbformat": 4,
 "nbformat_minor": 2
}
