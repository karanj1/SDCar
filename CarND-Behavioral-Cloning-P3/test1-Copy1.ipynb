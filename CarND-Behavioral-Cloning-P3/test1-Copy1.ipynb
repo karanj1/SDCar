{
 "cells": [
  {
   "cell_type": "code",
   "execution_count": 1,
   "metadata": {
    "collapsed": false
   },
   "outputs": [
    {
     "name": "stderr",
     "output_type": "stream",
     "text": [
      "Using TensorFlow backend.\n"
     ]
    }
   ],
   "source": [
    "import csv\n",
    "import cv2\n",
    "import numpy as np\n",
    "from PIL import Image\n",
    "from keras.models import Sequential\n",
    "from keras.layers.core import Dense, Flatten, Activation, Dropout, Lambda\n",
    "from keras.layers.convolutional import Convolution2D\n",
    "from keras.layers.pooling import MaxPooling2D"
   ]
  },
  {
   "cell_type": "code",
   "execution_count": 2,
   "metadata": {
    "collapsed": true
   },
   "outputs": [],
   "source": [
    "car_images = []\n",
    "steering_angles = []\n",
    "def process_image(image):\n",
    "    return image"
   ]
  },
  {
   "cell_type": "code",
   "execution_count": 3,
   "metadata": {
    "collapsed": false
   },
   "outputs": [
    {
     "name": "stdout",
     "output_type": "stream",
     "text": [
      "(48216, 160, 320, 3) (48216,)\n"
     ]
    }
   ],
   "source": [
    "with open('data/data/driving_log.csv', 'r') as f:\n",
    "        reader = csv.reader(f)\n",
    "        for row in reader:\n",
    "            steering_center = float(row[3])\n",
    "\n",
    "            # create adjusted steering measurements for the side camera images\n",
    "            correction = 0.1     # this is a parameter to tune\n",
    "            steering_left = steering_center + correction\n",
    "            steering_right = steering_center - correction\n",
    "\n",
    "            # read in images from center, left and right cameras\n",
    "            path = 'data/data/' # fill in the path to your training IMG directory\n",
    "            img_center = process_image(np.asarray(Image.open(path+row[0])))\n",
    "            img_center_flipped = np.fliplr(img_center)\n",
    "            img_left = process_image(np.asarray(Image.open(path+row[1])))\n",
    "            img_left_flipped = np.fliplr(img_left)\n",
    "            img_right = process_image(np.asarray(Image.open(path + row[2])))\n",
    "            img_right_flipped = np.fliplr(img_right)\n",
    "\n",
    "            # add images and angles to data set\n",
    "            car_images.append(img_center)\n",
    "            car_images.append(img_center_flipped)\n",
    "            car_images.append(img_left)\n",
    "            car_images.append(img_left_flipped)\n",
    "            car_images.append(img_right)\n",
    "            car_images.append(img_right_flipped)\n",
    "            steering_angles.append(steering_center)\n",
    "            steering_angles.append(-steering_center)\n",
    "            steering_angles.append(steering_left)\n",
    "            steering_angles.append(-steering_left)\n",
    "            steering_angles.append(steering_right)\n",
    "            steering_angles.append(-steering_right)\n",
    "            \n",
    "X_train = np.array(car_images)\n",
    "y_train = np.array(steering_angles)\n",
    "print(X_train.shape, y_train.shape)"
   ]
  },
  {
   "cell_type": "raw",
   "metadata": {
    "collapsed": false
   },
   "source": [
    "def multi_cam(current_path):\n",
    "    image = cv2.imread(current_path)\n",
    "    #print(image.shape)\n",
    "    image_flipped = np.fliplr(image)\n",
    "    images.append(image)\n",
    "    images.append(image_flipped)\n",
    "    measurement = float(line[3])\t#Coulumn 3 : Steering angle\n",
    "    measurement_flipped = -measurement  #Steering angle for flipped image\n",
    "    measurements.append(measurement)\n",
    "    measurements.append(measurement_flipped)"
   ]
  },
  {
   "cell_type": "raw",
   "metadata": {
    "collapsed": false
   },
   "source": [
    "lines = []\n",
    "with open('data/data/driving_log.csv') as csvfile:\n",
    "    reader = csv.reader(csvfile)\n",
    "    for line in reader:\n",
    "        lines.append(line)\n",
    "\n",
    "images = []\n",
    "measurements = []\n",
    "for line in lines[1:]:\n",
    "    source_path = line[0]\t#column 0 in csv\n",
    "    #print(source_path)\n",
    "    filename = source_path.split('/')[-1]\t#take filename from whole path\n",
    "    current_path = 'data/data/IMG/' + filename\n",
    "    multi_cam(current_path)"
   ]
  },
  {
   "cell_type": "raw",
   "metadata": {
    "collapsed": false
   },
   "source": [
    "X_train = np.array(images)\n",
    "y_train = np.array(measurements)\n",
    "print(X_train.shape)"
   ]
  },
  {
   "cell_type": "code",
   "execution_count": 4,
   "metadata": {
    "collapsed": false
   },
   "outputs": [],
   "source": [
    "model = Sequential()\n",
    "model.add(Lambda(lambda x: x/255.0 - 0.5, input_shape=(160,320,3)))\n",
    "model.add(Convolution2D(6,5,5, activation=\"relu\"))\n",
    "model.add(MaxPooling2D())\t\t#or can be MaxPooling2D((2, 2))\n",
    "model.add(Convolution2D(6,5,5, activation=\"relu\"))\n",
    "model.add(MaxPooling2D())\n",
    "model.add(Flatten())\n",
    "model.add(Dense(128))\n",
    "model.add(Dropout(0.5))\n",
    "model.add(Dense(75))\n",
    "model.add(Dense(1))"
   ]
  },
  {
   "cell_type": "code",
   "execution_count": 5,
   "metadata": {
    "collapsed": false
   },
   "outputs": [
    {
     "name": "stdout",
     "output_type": "stream",
     "text": [
      "Train on 38572 samples, validate on 9644 samples\n",
      "Epoch 1/7\n",
      "38572/38572 [==============================] - 143s - loss: 0.0578 - val_loss: 0.0118\n",
      "Epoch 2/7\n",
      "38572/38572 [==============================] - 142s - loss: 0.0102 - val_loss: 0.0115\n",
      "Epoch 3/7\n",
      "38572/38572 [==============================] - 141s - loss: 0.0091 - val_loss: 0.0115\n",
      "Epoch 4/7\n",
      "38572/38572 [==============================] - 141s - loss: 0.0085 - val_loss: 0.0115\n",
      "Epoch 5/7\n",
      "38572/38572 [==============================] - 141s - loss: 0.0082 - val_loss: 0.0118\n",
      "Epoch 6/7\n",
      "38572/38572 [==============================] - 141s - loss: 0.0081 - val_loss: 0.0115\n",
      "Epoch 7/7\n",
      "38572/38572 [==============================] - 141s - loss: 0.0081 - val_loss: 0.0123\n"
     ]
    }
   ],
   "source": [
    "model.compile(loss='mse', optimizer='adam')\n",
    "model.fit(X_train, y_train,validation_split=0.2, shuffle=True, nb_epoch=7)\n",
    "\n",
    "model.save('model_test.h5')"
   ]
  },
  {
   "cell_type": "code",
   "execution_count": null,
   "metadata": {
    "collapsed": true
   },
   "outputs": [],
   "source": []
  }
 ],
 "metadata": {
  "anaconda-cloud": {},
  "kernelspec": {
   "display_name": "Python [default]",
   "language": "python",
   "name": "python3"
  },
  "language_info": {
   "codemirror_mode": {
    "name": "ipython",
    "version": 3
   },
   "file_extension": ".py",
   "mimetype": "text/x-python",
   "name": "python",
   "nbconvert_exporter": "python",
   "pygments_lexer": "ipython3",
   "version": "3.5.2"
  }
 },
 "nbformat": 4,
 "nbformat_minor": 1
}
