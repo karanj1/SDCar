{
 "cells": [
  {
   "cell_type": "code",
   "execution_count": 18,
   "metadata": {
    "collapsed": false
   },
   "outputs": [],
   "source": [
    "import csv\n",
    "import cv2\n",
    "import numpy as np\n",
    "from keras.models import Sequential\n",
    "from keras.layers.core import Dense, Flatten, Activation, Dropout, Lambda\n",
    "from keras.layers.convolutional import Convolution2D\n",
    "from keras.layers.pooling import MaxPooling2D"
   ]
  },
  {
   "cell_type": "code",
   "execution_count": null,
   "metadata": {
    "collapsed": true
   },
   "outputs": [],
   "source": []
  },
  {
   "cell_type": "code",
   "execution_count": 21,
   "metadata": {
    "collapsed": false
   },
   "outputs": [],
   "source": [
    "lines = []\n",
    "with open('data/data/driving_log.csv') as csvfile:\n",
    "    reader = csv.reader(csvfile)\n",
    "    for line in reader:\n",
    "        lines.append(line)\n",
    "\n",
    "images = []\n",
    "measurements = []\n",
    "for line in lines[1:]:\n",
    "    source_path = line[0]\t#column 0 in csv\n",
    "    #print(source_path)\n",
    "    filename = source_path.split('/')[-1]\t#take filename from whole path\n",
    "    current_path = 'data/data/IMG/' + filename\n",
    "    image = cv2.imread(current_path)\n",
    "    #print(image.shape)\n",
    "    image_flipped = np.fliplr(image)\n",
    "    images.append(image)\n",
    "    images.append(image_flipped)\n",
    "    measurement = float(line[3])\t#Coulumn 3 : Steering angle\n",
    "    measurement_flipped = -measurement  #Steering angle for flipped image\n",
    "    measurements.append(measurement)\n",
    "    measurements.append(measurement_flipped)"
   ]
  },
  {
   "cell_type": "code",
   "execution_count": 16,
   "metadata": {
    "collapsed": false
   },
   "outputs": [
    {
     "name": "stdout",
     "output_type": "stream",
     "text": [
      "(16072, 160, 320, 3)\n"
     ]
    }
   ],
   "source": [
    "X_train = np.array(images)\n",
    "y_train = np.array(measurements)\n",
    "print(X_train.shape)"
   ]
  },
  {
   "cell_type": "code",
   "execution_count": 19,
   "metadata": {
    "collapsed": false
   },
   "outputs": [],
   "source": [
    "model = Sequential()\n",
    "model.add(Lambda(lambda x: x/255.0 - 0.5, input_shape=(160,320,3)))\n",
    "model.add(Convolution2D(6,5,5, activation=\"relu\"))\n",
    "model.add(MaxPooling2D())\t\t#or can be MaxPooling2D((2, 2))\n",
    "model.add(Convolution2D(6,5,5, activation=\"relu\"))\n",
    "model.add(MaxPooling2D())\n",
    "model.add(Flatten())\n",
    "model.add(Dense(128))\n",
    "model.add(Dropout(0.5))\n",
    "model.add(Dense(75))\n",
    "model.add(Dense(1))"
   ]
  },
  {
   "cell_type": "code",
   "execution_count": 20,
   "metadata": {
    "collapsed": false
   },
   "outputs": [
    {
     "name": "stdout",
     "output_type": "stream",
     "text": [
      "Train on 12857 samples, validate on 3215 samples\n",
      "Epoch 1/10\n",
      "12857/12857 [==============================] - 48s - loss: 0.1536 - val_loss: 0.0152\n",
      "Epoch 2/10\n",
      "12857/12857 [==============================] - 46s - loss: 0.0132 - val_loss: 0.0131\n",
      "Epoch 3/10\n",
      "12857/12857 [==============================] - 46s - loss: 0.0110 - val_loss: 0.0129\n",
      "Epoch 4/10\n",
      "12857/12857 [==============================] - 46s - loss: 0.0094 - val_loss: 0.0132\n",
      "Epoch 5/10\n",
      "12857/12857 [==============================] - 46s - loss: 0.0083 - val_loss: 0.0134\n",
      "Epoch 6/10\n",
      "12857/12857 [==============================] - 46s - loss: 0.0074 - val_loss: 0.0137\n",
      "Epoch 7/10\n",
      "12857/12857 [==============================] - 46s - loss: 0.0066 - val_loss: 0.0138\n",
      "Epoch 8/10\n",
      "12857/12857 [==============================] - 46s - loss: 0.0061 - val_loss: 0.0143\n",
      "Epoch 9/10\n",
      "12857/12857 [==============================] - 46s - loss: 0.0056 - val_loss: 0.0159\n",
      "Epoch 10/10\n",
      "12857/12857 [==============================] - 46s - loss: 0.0051 - val_loss: 0.0149\n"
     ]
    }
   ],
   "source": [
    "model.compile(loss='mse', optimizer='adam')\n",
    "model.fit(X_train, y_train,validation_split=0.2, shuffle=True)\n",
    "\n",
    "model.save('model_test.h5')"
   ]
  },
  {
   "cell_type": "code",
   "execution_count": null,
   "metadata": {
    "collapsed": true
   },
   "outputs": [],
   "source": []
  }
 ],
 "metadata": {
  "anaconda-cloud": {},
  "kernelspec": {
   "display_name": "Python [default]",
   "language": "python",
   "name": "python3"
  },
  "language_info": {
   "codemirror_mode": {
    "name": "ipython",
    "version": 3
   },
   "file_extension": ".py",
   "mimetype": "text/x-python",
   "name": "python",
   "nbconvert_exporter": "python",
   "pygments_lexer": "ipython3",
   "version": "3.5.2"
  }
 },
 "nbformat": 4,
 "nbformat_minor": 1
}
