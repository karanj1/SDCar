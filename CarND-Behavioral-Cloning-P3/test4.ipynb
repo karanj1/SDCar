{
 "cells": [
  {
   "cell_type": "code",
   "execution_count": 1,
   "metadata": {
    "collapsed": false
   },
   "outputs": [
    {
     "name": "stderr",
     "output_type": "stream",
     "text": [
      "Using TensorFlow backend.\n"
     ]
    }
   ],
   "source": [
    "import csv\n",
    "import cv2\n",
    "import numpy as np\n",
    "import sklearn\n",
    "from PIL import Image\n",
    "from sklearn.model_selection import train_test_split\n",
    "from sklearn.utils import shuffle\n",
    "from keras.models import Sequential\n",
    "from keras.layers.core import Dense, Flatten, Activation, Dropout, Lambda\n",
    "from keras.layers.convolutional import Convolution2D, Cropping2D\n",
    "from keras.layers.pooling import MaxPooling2D\n",
    "import math\n",
    "import matplotlib.pyplot as plt\n",
    "# Visualizations will be shown in the notebook.\n",
    "%matplotlib inline"
   ]
  },
  {
   "cell_type": "code",
   "execution_count": 3,
   "metadata": {
    "collapsed": false
   },
   "outputs": [
    {
     "name": "stdout",
     "output_type": "stream",
     "text": [
      "5414\n"
     ]
    }
   ],
   "source": [
    "samples = []\n",
    "with open('data/data/driving_log.csv') as csvfile:\n",
    "    #csvlines = csvfile.readlines()  # if we use this method then comment below 3 lines and replace samples by csvlines\n",
    "    reader = csv.reader(csvfile)\n",
    "    for line in reader:\n",
    "         # skip it if ~0 speed - not representative of driving behavior\n",
    "        if float(line[6]) < 0.1 :\n",
    "            continue\n",
    "        if float(line[3])>0.0001 or float(line[3])<-0.0001:\n",
    "            samples.append(line)\n",
    "        else:\n",
    "            select_prob = np.random.random()\n",
    "            if select_prob > 0.5:\n",
    "                samples.append(line)\n",
    "            \n",
    "        #samples.append(line)\n",
    "        \n",
    "print(len(samples))\n",
    "a= np.array(samples)"
   ]
  },
  {
   "cell_type": "code",
   "execution_count": null,
   "metadata": {
    "collapsed": false
   },
   "outputs": [],
   "source": [
    "plt.hist(a[:,3].astype(np.float), color = 'b', label = 'train', normed = False, bins=23)\n",
    "plt.title('Distribution of the number of steering angles')\n",
    "plt.xlabel('Angles')\n",
    "plt.ylabel('no of samples')\n",
    "plt.show()"
   ]
  },
  {
   "cell_type": "code",
   "execution_count": 8,
   "metadata": {
    "collapsed": false
   },
   "outputs": [
    {
     "name": "stdout",
     "output_type": "stream",
     "text": [
      "[-0.9426954  -0.86498758 -0.78727977 -0.70957195 -0.63186414 -0.55415632\n",
      " -0.4764485  -0.39874069 -0.32103287 -0.24332506 -0.16561724 -0.08790942\n",
      " -0.01020161  0.06750621  0.14521402  0.22292184  0.30062966  0.37833747\n",
      "  0.45604529  0.5337531   0.61146092  0.68916874  0.76687655  0.84458437\n",
      "  0.92229218  1.        ]\n"
     ]
    },
    {
     "data": {
      "image/png": "[encoded data removed]",
      "text/plain": [
       "<matplotlib.figure.Figure at 0x7effccdb0860>"
      ]
     },
     "metadata": {},
     "output_type": "display_data"
    }
   ],
   "source": [
    "# print a histogram to see which steering angle ranges are most overrepresented\n",
    "a_angles = a[:,3].astype(np.float)\n",
    "num_bins = 25\n",
    "avg_samples_per_bin = len(a)/num_bins\n",
    "hist, bins = np.histogram(a_angles, num_bins)\n",
    "width = 0.8 * (bins[1] - bins[0])\n",
    "center = (bins[:-1] + bins[1:]) / 2\n",
    "plt.bar(center, hist, align='center', width=width)\n",
    "plt.plot((np.min(a_angles), np.max(a_angles)), (avg_samples_per_bin, avg_samples_per_bin), 'k-')\n",
    "\n",
    "print(bins)"
   ]
  },
  {
   "cell_type": "code",
   "execution_count": 26,
   "metadata": {
    "collapsed": false
   },
   "outputs": [
    {
     "name": "stdout",
     "output_type": "stream",
     "text": [
      "-0.0787459 12 -0.010201608 -0.010201608 2474 108.28\n"
     ]
    }
   ],
   "source": [
    "#http://stackoverflow.com/questions/14947909/python-checking-to-which-bin-a-value-belongs/14947961\n",
    "# Which angle belongs to which bin......\n",
    "my_list = a_angles  # list of angles\n",
    "digitized = np.digitize(my_list,bins)  # for list of angles\n",
    "x = 51\n",
    "print(my_list[x], digitized[x], bins[digitized[x]], bins[12], hist[12], avg_samples_per_bin * 0.5)"
   ]
  },
  {
   "cell_type": "code",
   "execution_count": 32,
   "metadata": {
    "collapsed": false
   },
   "outputs": [
    {
     "name": "stdout",
     "output_type": "stream",
     "text": [
      "12 -0.010201608 2474\n"
     ]
    }
   ],
   "source": [
    "digitized = np.digitize(-0.0787459,bins)   # for single angle\n",
    "digitized\n",
    "print(digitized, bins[digitized], hist[digitized])"
   ]
  },
  {
   "cell_type": "code",
   "execution_count": null,
   "metadata": {
    "collapsed": false
   },
   "outputs": [],
   "source": [
    "car_images = []\n",
    "steering_angles = []\n",
    "keep_probs = []\n",
    "\n",
    "threshold = avg_samples_per_bin * 0.5\n",
    "\n",
    "'''\n",
    "for i in range(bins):\n",
    "    if hist[i] < threshold:\n",
    "        keep_probs.append(1.)\n",
    "    else:\n",
    "        keep_probs.append(1./(hist[i]/threshold))\n",
    "'''\n",
    "    \n",
    "def Augmentation(row):\n",
    "    steering_center = float(row[3])\n",
    "    digitized_center = np.digitize(steering_center,bins)   #bin number for steering_center angle for this row\n",
    "    \n",
    "    # create adjusted steering measurements for the side camera images\n",
    "    correction = 0.12     # this is a parameter to tune\n",
    "    steering_left = steering_center + correction\n",
    "    steering_right = steering_center - correction\n",
    "    \n",
    "    digitized_left = np.digitize(steering_left,bins)    #bin number for steering_left angle for this row\n",
    "    digitized_right = np.digitize(steering_right,bins)   #bin number for steering_right angle for this row\n",
    "    \n",
    "    select_prob = np.random.random()\n",
    "    \n",
    "    # read in images from center, left and right cameras\n",
    "    path = 'data/data/' # fill in the path to your training IMG directory\n",
    "    \n",
    "    \n",
    "    \n",
    "    # It balances histogram, if image is in the bin having no of images greater than threshold ....(see above 2 cells)\n",
    "    #1./(hist[digitized_center]/threshold) is equivalent to  threshold/hist[digitized_center] (i.e 100/500 = 0.2 = keep_probs)\n",
    "    if hist[digitized_center] > threshold:   #hist[digitized_center] will give no of images in that bin\n",
    "        keep_probs_center = 1./(hist[digitized_center]/threshold)\n",
    "    else:\n",
    "        keep_probs = 1\n",
    "    if select_prob > (1-keep_probs_center):\n",
    "        img_center = np.asarray(Image.open(path+row[0]))\n",
    "        img_center_flipped = np.fliplr(img_center)\n",
    "        car_images.append(img_center)\n",
    "        car_images.append(img_center_flipped)\n",
    "        steering_angles.append(steering_center)\n",
    "        steering_angles.append(-steering_center)\n",
    "        \n",
    "    if hist[digitized_left] > threshold:\n",
    "        keep_probs_left = 1./(hist[digitized_left]/threshold)\n",
    "    else:\n",
    "        keep_probs = 1\n",
    "    if select_prob > (1-keep_probs_left):\n",
    "        img_left = np.asarray(Image.open(path+row[1]))\n",
    "        img_left_flipped = np.fliplr(img_left)\n",
    "        car_images.append(img_left)\n",
    "        car_images.append(img_left_flipped)\n",
    "        steering_angles.append(steering_left)\n",
    "        steering_angles.append(-steering_left)\n",
    "        \n",
    "    if hist[digitized_right] > threshold:\n",
    "        keep_probs_right = 1./(hist[digitized_right]/threshold)\n",
    "    else:\n",
    "        keep_probs = 1\n",
    "    if select_prob > (1-keep_probs_right):\n",
    "        img_right = np.asarray(Image.open(path + row[2]))\n",
    "        img_right_flipped = np.fliplr(img_right)\n",
    "        car_images.append(img_right)\n",
    "        car_images.append(img_right_flipped)\n",
    "        steering_angles.append(steering_right)\n",
    "        steering_angles.append(-steering_right)\n",
    "    \n",
    "    #print(car_images[1].shape,steering_angles)"
   ]
  },
  {
   "cell_type": "code",
   "execution_count": null,
   "metadata": {
    "collapsed": true
   },
   "outputs": [],
   "source": [
    "global car_images\n",
    "global steering_angles\n",
    "\n",
    "for row in samples:\n",
    "    Augmentation(row)"
   ]
  },
  {
   "cell_type": "code",
   "execution_count": null,
   "metadata": {
    "collapsed": false
   },
   "outputs": [],
   "source": [
    "#Sample example\n",
    "\n",
    "#Augmentation(a[300])\n",
    "for i in range(6):\n",
    "    image = car_images[i]\n",
    "    plt.subplot(3, 2, i+1)\n",
    "    plt.tight_layout()\n",
    "    #print(steering_angles[i])\n",
    "    plt.imshow(image, aspect='auto')\n",
    "    plt.title(steering_angles[i])\n",
    "    plt.axis('off')"
   ]
  },
  {
   "cell_type": "code",
   "execution_count": null,
   "metadata": {
    "collapsed": true
   },
   "outputs": [],
   "source": [
    "# print a histogram to see which steering angle ranges are most overrepresented\n",
    "b_angles = steering_angles.astype(np.float)\n",
    "num_bins = 25\n",
    "avg_samples_per_bin = len(steering_angles)/num_bins\n",
    "hist, bins = np.histogram(b_angles, num_bins)\n",
    "width = 0.8 * (bins[1] - bins[0])\n",
    "center = (bins[:-1] + bins[1:]) / 2\n",
    "plt.bar(center, hist, align='center', width=width)\n",
    "plt.plot((np.min(b_angles), np.max(b_angles)), (avg_samples_per_bin, avg_samples_per_bin), 'k-')\n",
    "\n",
    "print(bins)"
   ]
  },
  {
   "cell_type": "code",
   "execution_count": null,
   "metadata": {
    "collapsed": false
   },
   "outputs": [],
   "source": [
    "print(len(car_images),len(steering_angles))\n",
    "\n",
    "train_images, validation_images, train_angles, Validation_angles  = train_test_split(car_images,steering_angles, test_size=0.2)\n",
    "print (len(car_images), len(train_images), len(validation_images), len(train_angles), len(Validation_angles))"
   ]
  },
  {
   "cell_type": "raw",
   "metadata": {},
   "source": [
    "def brightness_process_image(Xpp_in, Xpp_out):\n",
    "    \n",
    "    #Brightness normalization\n",
    "    cv2.normalize(Xpp_in, Xpp_out, 30, 225, cv2.NORM_MINMAX)\n",
    "    \n",
    "    return Xpp_out"
   ]
  },
  {
   "cell_type": "code",
   "execution_count": null,
   "metadata": {
    "collapsed": true
   },
   "outputs": [],
   "source": [
    "#car_images = []\n",
    "#steering_angles = []\n",
    "i=0\n",
    "\n",
    "def process_image(image):\n",
    "    \n",
    "    shape = image.shape\n",
    "    # note: numpy arrays are (row, col)!\n",
    "    image = image[math.floor(shape[0]/4):shape[0]-25, 0:shape[1]]\n",
    "    image = cv2.resize(image, (64, 64))\n",
    "    \n",
    "    #image2 = np.zeros(image.shape, dtype='u1')\n",
    "    #image2 = brightness_process_image(image, image2)\n",
    "    \n",
    "    return image"
   ]
  },
  {
   "cell_type": "code",
   "execution_count": null,
   "metadata": {
    "collapsed": false
   },
   "outputs": [],
   "source": [
    "#Sample processing on first image in csv file\n",
    "path = 'data/data/' # fill in the path to your training IMG directory\n",
    "\n",
    "divider = np.asarray(np.zeros((64,10,3), dtype='u1'))\n",
    "\n",
    "#img_center1 = process_image(np.asarray(Image.open(path+csvlines[550][0:38]))) #line[x][0:38], x is row number, [0:38] is characters of first coulmn of that row..\n",
    "img_center1 = process_image(np.asarray(Image.open(path+samples[250][0])))  #line[x][1], x is row number, [0] is 0th coulmn of that row..\n",
    "print(img_center1.shape, divider.shape)\n",
    "\n",
    "res1 = np.hstack((img_center1, divider, img_center1_flipped))\n",
    "plt.imshow(res1)\n"
   ]
  },
  {
   "cell_type": "code",
   "execution_count": null,
   "metadata": {
    "collapsed": false
   },
   "outputs": [],
   "source": [
    "def generator(images_samples, angles_samples, batch_size=32):\n",
    "    num_samples = len(images_samples)*0.3   # will take 30% of the images\n",
    "    while 1: # Loop forever so the generator never terminates\n",
    "        \n",
    "        generator_images = []\n",
    "        generator_angles = []\n",
    "        shuffle(images_samples,angles_samples)    #images shuffled\n",
    "        \n",
    "        for offset in range(0, num_samples, batch_size):    #every epoch we ll have shuffled 30% images\n",
    "            batch_samples = images_samples[offset:offset+batch_size]\n",
    "            batch_angles = angles_samples[offset:offset+batch_size]\n",
    "            for image1 in batch_samples:\n",
    "                processed_img = process_image(image1)\n",
    "\n",
    "            generator_images.append(processed_img)\n",
    "            generator_angles.append(batch_angles)\n",
    "            \n",
    "            X_train = np.array(generator_images)\n",
    "            y_train = np.array(generator_angles)\n",
    "            #print(X_train.shape, y_train.shape)\n",
    "            yield sklearn.utils.shuffle(X_train, y_train)"
   ]
  },
  {
   "cell_type": "code",
   "execution_count": null,
   "metadata": {
    "collapsed": true
   },
   "outputs": [],
   "source": []
  },
  {
   "cell_type": "code",
   "execution_count": null,
   "metadata": {
    "collapsed": false
   },
   "outputs": [],
   "source": [
    "# compile and train the model using the generator function\n",
    "train_generator = generator(train_images, train_angles, batch_size=32)\n",
    "validation_generator = generator(validation_images, Validation_angles, batch_size=32)"
   ]
  },
  {
   "cell_type": "code",
   "execution_count": null,
   "metadata": {
    "collapsed": false
   },
   "outputs": [],
   "source": [
    "model = Sequential()\n",
    "#model.add(Cropping2D(cropping=((40,25),(0,0)), input_shape=(160, 320, 3)))\n",
    "model.add(Lambda(lambda x: x/255.0 - 0.5, input_shape=(64,64,3)))\n",
    "\n",
    "model.add(Convolution2D(3,1,1,border_mode='valid', name='conv0'))\n",
    "model.add(Convolution2D(16,3,3, activation='relu', name='conv1'))   #62x62x16 #80x300x16\n",
    "model.add(MaxPooling2D((2, 2), border_mode='valid', name='pool1'))  #31x31x16 #40x150x16\n",
    "                        \n",
    "model.add(Convolution2D(32,8,8, activation='relu'))   #24x24x32 #30x130x32\n",
    "model.add(MaxPooling2D((2, 2), border_mode='valid'))  #13x13x32 #15x65x32\n",
    "                        \n",
    "model.add(Flatten())\n",
    "                        \n",
    "model.add(Dense(1024))\n",
    "model.add(Dropout(0.5))\n",
    "          \n",
    "model.add(Dense(256))\n",
    "model.add(Dropout(0.5))\n",
    "                        \n",
    "model.add(Dense(75))\n",
    "model.add(Dense(1))"
   ]
  },
  {
   "cell_type": "raw",
   "metadata": {},
   "source": [
    "from keras import backend as K\n",
    "def get_activations(model, layer, X_batch):\n",
    "    get_activations = K.function([model.layers[0].input, K.learning_phase()], [model.layers[layer].output,])\n",
    "    activations = get_activations([X_batch,0])\n",
    "    return activations"
   ]
  },
  {
   "cell_type": "code",
   "execution_count": null,
   "metadata": {
    "collapsed": false
   },
   "outputs": [],
   "source": [
    "model.compile(loss='mse', optimizer='adam')\n",
    "#model.fit(X_train, y_train,validation_split=0.2, shuffle=True, nb_epoch=7)\n",
    "model.fit_generator(train_generator, samples_per_epoch= \\\n",
    "            len(train_samples)*6, validation_data=validation_generator, \\\n",
    "            nb_val_samples=len(validation_samples)*6, nb_epoch=3)         #https://keras.io/models/sequential/#fit_generator\n",
    "\n",
    "model.save('model_test.h5')"
   ]
  },
  {
   "cell_type": "code",
   "execution_count": null,
   "metadata": {
    "collapsed": true
   },
   "outputs": [],
   "source": []
  }
 ],
 "metadata": {
  "anaconda-cloud": {},
  "kernelspec": {
   "display_name": "Python 3",
   "language": "python",
   "name": "python3"
  },
  "language_info": {
   "codemirror_mode": {
    "name": "ipython",
    "version": 3
   },
   "file_extension": ".py",
   "mimetype": "text/x-python",
   "name": "python",
   "nbconvert_exporter": "python",
   "pygments_lexer": "ipython3",
   "version": "3.5.2"
  },
  "widgets": {
   "state": {},
   "version": "1.1.2"
  }
 },
 "nbformat": 4,
 "nbformat_minor": 1
}
