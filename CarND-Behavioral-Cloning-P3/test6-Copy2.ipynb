{
 "cells": [
  {
   "cell_type": "code",
   "execution_count": 1,
   "metadata": {
    "collapsed": false
   },
   "outputs": [
    {
     "name": "stderr",
     "output_type": "stream",
     "text": [
      "Using TensorFlow backend.\n"
     ]
    }
   ],
   "source": [
    "import csv\n",
    "import cv2\n",
    "import numpy as np\n",
    "import sklearn\n",
    "from PIL import Image\n",
    "from sklearn.model_selection import train_test_split\n",
    "from sklearn.utils import shuffle\n",
    "from keras.models import Sequential\n",
    "from keras.layers.core import Dense, Flatten, Activation, Dropout, Lambda\n",
    "from keras.layers.convolutional import Convolution2D, Cropping2D\n",
    "from keras.layers.pooling import MaxPooling2D\n",
    "from keras.layers.advanced_activations import ELU\n",
    "from keras import regularizers\n",
    "from keras.regularizers import l2, activity_l2\n",
    "from keras.optimizers import Adam\n",
    "import math\n",
    "import matplotlib.pyplot as plt\n",
    "# Visualizations will be shown in the notebook.\n",
    "%matplotlib inline"
   ]
  },
  {
   "cell_type": "code",
   "execution_count": 2,
   "metadata": {
    "collapsed": false
   },
   "outputs": [
    {
     "name": "stdout",
     "output_type": "stream",
     "text": [
      "8284 6627 1657 ['IMG/center_2016_12_01_13_33_58_432.jpg', 'IMG/left_2016_12_01_13_33_58_432.jpg', 'IMG/right_2016_12_01_13_33_58_432.jpg', '-0.135712', '0.9855326', '0', '30.18591']\n"
     ]
    }
   ],
   "source": [
    "samples = []\n",
    "#csv_path = ['data/data/driving_log.csv', 'data/ds1/driving_log.csv', 'data/DSReverse/driving_log.csv']\n",
    "csv_path = ['data/data/driving_log.csv', 'data/ds1/driving_log.csv', 'data/DSReverse/driving_log.csv', \\\n",
    "            'data/data/data_pat/track1_central/driving_log.csv', 'data/data/data_pat/track1_recovery/driving_log.csv', \\\n",
    "            'data/data/data_pat/track1_recovery_reverse/driving_log.csv', 'data/data/data_pat/track1_reverse/driving_log.csv']\n",
    "for j in range(3):\n",
    "    if j==8:\n",
    "        # 0 = my own data, 1 = Udacity supplied data , any other no = use both dataset\n",
    "        print('not using dataset ', j)\n",
    "        continue\n",
    "    with open(csv_path[j]) as csvfile:\n",
    "        #csvlines = csvfile.readlines()  # if we use this method then comment below 3 lines and replace samples by csvlines\n",
    "        reader = csv.reader(csvfile)\n",
    "        for line in reader:\n",
    "             # skip it if ~0 speed - not representative of driving behavior\n",
    "            if float(line[6]) < 0.1 :\n",
    "                continue\n",
    "            if (float(line[3])>0.01 and float(line[3])<0.9) or (float(line[3])>-0.9 and float(line[3])<-0.01):\n",
    "                samples.append(line)\n",
    "            else:\n",
    "                select_prob = np.random.random()\n",
    "                if select_prob > 0.5:\n",
    "                    samples.append(line)\n",
    "                \n",
    "            #samples.append(line)\n",
    "        \n",
    "        \n",
    "train_samples, validation_samples = train_test_split(samples, test_size=0.2)\n",
    "print (len(samples), len(train_samples), len(validation_samples), samples[550])\n",
    "a= np.array(samples)"
   ]
  },
  {
   "cell_type": "code",
   "execution_count": 3,
   "metadata": {
    "collapsed": false
   },
   "outputs": [
    {
     "name": "stdout",
     "output_type": "stream",
     "text": [
      "[-1.   -0.92 -0.84 -0.76 -0.68 -0.6  -0.52 -0.44 -0.36 -0.28 -0.2  -0.12\n",
      " -0.04  0.04  0.12  0.2   0.28  0.36  0.44  0.52  0.6   0.68  0.76  0.84\n",
      "  0.92  1.  ] [ 201    3    9   15   16   16   64   66  135  231  368  716 4575  643  664\n",
      "  138  154   48   35    6    8    2    0    1  170    1]\n"
     ]
    },
    {
     "data": {
      "image/png": "[encoded data removed]",
      "text/plain": [
       "<matplotlib.figure.Figure at 0x7f4cf8982940>"
      ]
     },
     "metadata": {},
     "output_type": "display_data"
    }
   ],
   "source": [
    "# print a histogram to see which steering angle ranges are most overrepresented\n",
    "a_angles = a[:,3].astype(np.float)\n",
    "num_bins = 25\n",
    "avg_samples_per_bin = len(a)/num_bins\n",
    "hist, bins = np.histogram(a_angles, num_bins)\n",
    "width = 0.8 * (bins[1] - bins[0])\n",
    "center = (bins[:-1] + bins[1:]) / 2\n",
    "plt.bar(center, hist, align='center', width=width)\n",
    "plt.plot((np.min(a_angles), np.max(a_angles)), (avg_samples_per_bin, avg_samples_per_bin), 'k-')\n",
    "\n",
    "hist = np.concatenate((hist, [1]))  # because no of bins are 26 (0 to 25), but no of hist were 25.(see print(bins, hist) below)\n",
    "print(bins, hist)"
   ]
  },
  {
   "cell_type": "code",
   "execution_count": 4,
   "metadata": {
    "collapsed": true
   },
   "outputs": [],
   "source": [
    "samples2 = []\n",
    "steering_angles2 = []\n",
    "\n",
    "def SubSample(samples, a_angles):\n",
    "    # determine keep probability for each bin: if below avg_samples_per_bin, keep all; otherwise keep prob is proportional\n",
    "    # to number of samples above the average, so as to bring the number of samples for that bin down to the average\n",
    "    keep_probs2 = []\n",
    "    target = avg_samples_per_bin\n",
    "    for i in range(num_bins):\n",
    "        #print(bins[i])\n",
    "        if hist[i] < target:\n",
    "            keep_probs2.append(1.)\n",
    "        else:\n",
    "            keep_probs2.append(1./(hist[i]/target))\n",
    "    for i in range(len(a_angles)):\n",
    "        for j in range(num_bins):\n",
    "            if a_angles[i] > bins[j] and a_angles[i] <= bins[j+1]:\n",
    "                # delete from X and y with probability 1 - keep_probs[j]\n",
    "                if np.random.rand() < keep_probs2[j] and a_angles[i]>=-0.90 and a_angles[i]<=0.90:\n",
    "                    samples2.append(samples[i])\n",
    "                    steering_angles2.append(a_angles[i])"
   ]
  },
  {
   "cell_type": "code",
   "execution_count": 5,
   "metadata": {
    "collapsed": false
   },
   "outputs": [
    {
     "name": "stdout",
     "output_type": "stream",
     "text": [
      "[-0.8749067  -0.80489438 -0.73488205 -0.66486973 -0.5948574  -0.52484508\n",
      " -0.45483276 -0.38482043 -0.31480811 -0.24479578 -0.17478346 -0.10477114\n",
      " -0.03475881  0.03525351  0.10526584  0.17527816  0.24529048  0.31530281\n",
      "  0.38531513  0.45532746  0.52533978  0.5953521   0.66536443  0.73537675\n",
      "  0.80538908  0.8754014 ] [  8   9  13  13  15  37  76  69 169 172 338 252 338 286 200 216 147 113\n",
      "  24  27   6   8   1   1   1   1]\n"
     ]
    },
    {
     "data": {
      "image/png": "[encoded data removed]",
      "text/plain": [
       "<matplotlib.figure.Figure at 0x7f4cf5d62c50>"
      ]
     },
     "metadata": {},
     "output_type": "display_data"
    }
   ],
   "source": [
    "\n",
    "a_angles = a[:,3].astype(np.float)\n",
    "SubSample(samples, a_angles)\n",
    "# print a histogram to see which steering angle ranges are most overrepresented\n",
    "b_angles2 = steering_angles2\n",
    "num_bins = 25\n",
    "avg_samples_per_bin = len(steering_angles2)/num_bins\n",
    "hist, bins = np.histogram(b_angles2, num_bins)\n",
    "width = 0.8 * (bins[1] - bins[0])\n",
    "center = (bins[:-1] + bins[1:]) / 2\n",
    "plt.bar(center, hist, align='center', width=width)\n",
    "plt.plot((np.min(b_angles2), np.max(b_angles2)), (avg_samples_per_bin, avg_samples_per_bin), 'k-')\n",
    "\n",
    "hist = np.concatenate((hist, [1]))  # because no of bins are 26 (0 to 25), but no of hist were 25.(see print(bins, hist) below)\n",
    "print(bins, hist)"
   ]
  },
  {
   "cell_type": "code",
   "execution_count": 6,
   "metadata": {
    "collapsed": false
   },
   "outputs": [
    {
     "name": "stdout",
     "output_type": "stream",
     "text": [
      "2539 2031 508 ['IMG/center_2016_12_01_13_33_58_432.jpg', 'IMG/left_2016_12_01_13_33_58_432.jpg', 'IMG/right_2016_12_01_13_33_58_432.jpg', '-0.135712', '0.9855326', '0', '30.18591']\n"
     ]
    }
   ],
   "source": [
    "train_samples, validation_samples = train_test_split(samples2, test_size=0.2)\n",
    "print (len(samples2), len(train_samples), len(validation_samples), samples[550])"
   ]
  },
  {
   "cell_type": "code",
   "execution_count": 7,
   "metadata": {
    "collapsed": true
   },
   "outputs": [],
   "source": [
    "#car_images = []\n",
    "#steering_angles = []\n",
    "i=0\n",
    "\n",
    "def process_image(image):\n",
    "    \n",
    "    shape = image.shape\n",
    "    # note: numpy arrays are (row, col)!\n",
    "    image = image[math.floor(shape[0]/4):shape[0]-25, 0:shape[1]]\n",
    "    image = cv2.resize(image, (64, 64))\n",
    "    \n",
    "    #image2 = np.zeros(image.shape, dtype='u1')\n",
    "    #image2 = brightness_process_image(image, image2)\n",
    "    \n",
    "    return image"
   ]
  },
  {
   "cell_type": "code",
   "execution_count": 55,
   "metadata": {
    "collapsed": true
   },
   "outputs": [],
   "source": [
    "def transform_image(image,ang_range,shear_range,trans_range):\n",
    "# Rotation\n",
    "    ang_rot = np.random.uniform(ang_range)-ang_range/2\n",
    "    rows,cols,ch = image.shape    \n",
    "    Rot_M = cv2.getRotationMatrix2D((cols/2,rows/2),ang_rot,1)\n",
    "# Translation\n",
    "    tr_x = trans_range*np.random.uniform()-trans_range/2\n",
    "    tr_y = trans_range*np.random.uniform()-trans_range/2\n",
    "    Trans_M = np.float32([[1,0,tr_x],[0,1,tr_y]])\n",
    "# Shear\n",
    "    #rows,cols,ch = image.shape\n",
    "    #dx = np.random.randint(-shear_range,shear_range+1)\n",
    "    ##print('dx',dx)\n",
    "    #random_point = [cols/2+dx,rows/2]\n",
    "    #pts1 = np.float32([[0,rows],[cols,rows],[cols/2,rows/2]])\n",
    "    #pts2 = np.float32([[0,rows],[cols,rows],random_point])\n",
    "    #dsteering = dx/(rows/2) * 360/(2*np.pi*25.0) / 6.0    \n",
    "    #M = cv2.getAffineTransform(pts1,pts2)\n",
    "    #image = cv2.warpAffine(image,M,(cols,rows),borderMode=1)\n",
    "    pts1 = np.float32([[5,5],[20,5],[5,20]])\n",
    "    pt1 = 5+shear_range*np.random.uniform()-shear_range/2\n",
    "    pt2 = 20+shear_range*np.random.uniform()-shear_range/2\n",
    "    pts2 = np.float32([[pt1,5],[pt2,pt1],[5,pt2]])\n",
    "    shear_M = cv2.getAffineTransform(pts1,pts2)\n",
    "        \n",
    "    #image = cv2.warpAffine(image,Rot_M,(cols,rows))\n",
    "    #image = cv2.warpAffine(image,Trans_M,(cols,rows))\n",
    "    image = cv2.warpAffine(image,shear_M,(cols,rows))\n",
    "    \n",
    "    #image2 = np.zeros(X_train[0].shape, dtype='u1')\n",
    "    # Preprocessing \n",
    "    #image2 = brightness_process_image(image,image2)     # brightness Normalization & Augmentaion\n",
    "    \n",
    "    return image"
   ]
  },
  {
   "cell_type": "code",
   "execution_count": 58,
   "metadata": {
    "collapsed": false
   },
   "outputs": [
    {
     "name": "stdout",
     "output_type": "stream",
     "text": [
      "(64, 64, 3) (64, 10, 3)\n"
     ]
    },
    {
     "data": {
      "text/plain": [
       "<matplotlib.image.AxesImage at 0x7f4cf4ec46a0>"
      ]
     },
     "execution_count": 58,
     "metadata": {},
     "output_type": "execute_result"
    },
    {
     "data": {
      "image/png": "[encoded data removed]",
      "text/plain": [
       "<matplotlib.figure.Figure at 0x7f4cf4ef9fd0>"
      ]
     },
     "metadata": {},
     "output_type": "display_data"
    }
   ],
   "source": [
    "#Sample processing on first image in csv file\n",
    "path = 'data/data/' # fill in the path to your training IMG directory\n",
    "\n",
    "divider = np.asarray(np.zeros((64,10,3), dtype='u1'))\n",
    "\n",
    "#img_center1 = process_image(np.asarray(Image.open(path+csvlines[550][0:38]))) #line[x][0:38], x is row number, [0:38] is characters of first coulmn of that row..\n",
    "img_center1 = process_image(np.asarray(Image.open(path+samples[250][0])))  #line[x][1], x is row number, [0] is 0th coulmn of that row..\n",
    "print(img_center1.shape, divider.shape)\n",
    "img_center1_flipped = np.fliplr(img_center1)\n",
    "img_center2 = transform_image(img_center1,2,5,2)\n",
    "res1 = np.hstack((img_center1, divider, img_center1_flipped, divider, img_center2))\n",
    "plt.imshow(res1)\n"
   ]
  },
  {
   "cell_type": "code",
   "execution_count": 10,
   "metadata": {
    "collapsed": false
   },
   "outputs": [],
   "source": [
    "def Augmentation(row, car_images, steering_angles):\n",
    "    steering_center = float(row[3])\n",
    "\n",
    "    # create adjusted steering measurements for the side camera images\n",
    "    correction = 0.17     # this is a parameter to tune\n",
    "    steering_left = steering_center + correction\n",
    "    steering_right = steering_center - correction\n",
    "    \n",
    "    # read in images from center, left and right cameras\n",
    "    path = 'data/data/' # fill in the path to your training IMG directory\n",
    "    \n",
    "    img_center = process_image(np.asarray(Image.open(path+row[0])))\n",
    "    img_center_flipped = np.fliplr(img_center)\n",
    "    img_left = process_image(np.asarray(Image.open(path+row[1])))\n",
    "    img_left_flipped = np.fliplr(img_left)\n",
    "    img_right = process_image(np.asarray(Image.open(path + row[2])))\n",
    "    img_right_flipped = np.fliplr(img_right)\n",
    "    \n",
    "    # add images and angles to data set\n",
    "    car_images.append(img_center)\n",
    "    car_images.append(img_center_flipped)\n",
    "    car_images.append(img_left)\n",
    "    car_images.append(img_left_flipped)\n",
    "    car_images.append(img_right)\n",
    "    car_images.append(img_right_flipped)\n",
    "    steering_angles.append(steering_center)\n",
    "    steering_angles.append(-steering_center)\n",
    "    steering_angles.append(steering_left)\n",
    "    steering_angles.append(-steering_left)\n",
    "    steering_angles.append(steering_right)\n",
    "    steering_angles.append(-steering_right)\n",
    "    \n",
    "    camera = np.random.choice(['center', 'left', 'right'], p=[0.3,0.35,0.35])\n",
    "    if camera == \"center\" :    \n",
    "        car_images.append(transform_image(img_center,2,2,2))\n",
    "        steering_angles.append(steering_center)\n",
    "        car_images.append(transform_image(img_center_flipped,2,2,2))\n",
    "        steering_angles.append(-steering_center)\n",
    "    if camera == \"left\" :    \n",
    "        car_images.append(transform_image(img_left,2,2,2))\n",
    "        steering_angles.append(steering_left)\n",
    "        car_images.append(transform_image(img_right_flipped,2,2,2))\n",
    "        steering_angles.append(-steering_right)\n",
    "    if camera == \"right\" :    \n",
    "        car_images.append(transform_image(img_right,2,2,2))\n",
    "        steering_angles.append(steering_right)\n",
    "        car_images.append(transform_image(img_left_flipped,2,2,2))\n",
    "        steering_angles.append(-steering_left)"
   ]
  },
  {
   "cell_type": "code",
   "execution_count": 11,
   "metadata": {
    "collapsed": true
   },
   "outputs": [],
   "source": [
    "def Augmentation_None(row, car_images, steering_angles):\n",
    "    steering_center = float(row[3])\n",
    "\n",
    "    # create adjusted steering measurements for the side camera images\n",
    "    correction = 0.12     # this is a parameter to tune\n",
    "    steering_left = steering_center + correction\n",
    "    steering_right = steering_center - correction\n",
    "    \n",
    "    # read in images from center, left and right cameras\n",
    "    path = 'data/data/' # fill in the path to your training IMG directory\n",
    "    \n",
    "    img_center = process_image(np.asarray(Image.open(path+row[0])))\n",
    "    img_center_flipped = np.fliplr(img_center)\n",
    "    img_left = process_image(np.asarray(Image.open(path+row[1])))\n",
    "    img_left_flipped = np.fliplr(img_left)\n",
    "    img_right = process_image(np.asarray(Image.open(path + row[2])))\n",
    "    img_right_flipped = np.fliplr(img_right)\n",
    "    \n",
    "    # add images and angles to data set\n",
    "    car_images.append(img_center)\n",
    "    car_images.append(img_center_flipped)\n",
    "    car_images.append(img_left)\n",
    "    car_images.append(img_left_flipped)\n",
    "    car_images.append(img_right)\n",
    "    car_images.append(img_right_flipped)\n",
    "    steering_angles.append(steering_center)\n",
    "    steering_angles.append(-steering_center)\n",
    "    steering_angles.append(steering_left)\n",
    "    steering_angles.append(-steering_left)\n",
    "    steering_angles.append(steering_right)\n",
    "    steering_angles.append(-steering_right)"
   ]
  },
  {
   "cell_type": "raw",
   "metadata": {
    "collapsed": false
   },
   "source": [
    "#Sample example\n",
    "\n",
    "Augmentation(a[300])\n",
    "for i in range(6):\n",
    "    image = car_images[i]\n",
    "    plt.subplot(3, 2, i+1)\n",
    "    plt.tight_layout()\n",
    "    #print(steering_angles[i])\n",
    "    plt.imshow(image, aspect='auto')\n",
    "    plt.title(steering_angles[i])\n",
    "    plt.axis('off')"
   ]
  },
  {
   "cell_type": "code",
   "execution_count": 12,
   "metadata": {
    "collapsed": false
   },
   "outputs": [],
   "source": [
    "def generator(samples, augment=True, batch_size=256):\n",
    "    num_samples = int(len(samples)/2.7)\n",
    "    while 1: # Loop forever so the generator never terminates\n",
    "        shuffle(samples)\n",
    "        for offset in range(0, num_samples, batch_size):\n",
    "            batch_samples = samples[offset:offset+batch_size]\n",
    "\n",
    "            car_images = []\n",
    "            steering_angles = []\n",
    "\n",
    "            for row in batch_samples:\n",
    "                if augment==True:\n",
    "                    Augmentation(row, car_images, steering_angles)\n",
    "                else:\n",
    "                    Augmentation(row, car_images, steering_angles)\n",
    "\n",
    "            # trim image to only see section with road\n",
    "            X_train = np.array(car_images)\n",
    "            y_train = np.array(steering_angles)\n",
    "            #print(X_train.shape, y_train.shape)\n",
    "            yield sklearn.utils.shuffle(X_train, y_train)"
   ]
  },
  {
   "cell_type": "code",
   "execution_count": null,
   "metadata": {
    "collapsed": true
   },
   "outputs": [],
   "source": []
  },
  {
   "cell_type": "code",
   "execution_count": 13,
   "metadata": {
    "collapsed": false
   },
   "outputs": [],
   "source": [
    "# compile and train the model using the generator function\n",
    "train_generator = generator(train_samples, augment=True, batch_size=256)\n",
    "validation_generator = generator(validation_samples, augment=False, batch_size=256)"
   ]
  },
  {
   "cell_type": "raw",
   "metadata": {
    "collapsed": false
   },
   "source": [
    "model = Sequential()\n",
    "#model.add(Cropping2D(cropping=((40,25),(0,0)), input_shape=(160, 320, 3)))\n",
    "model.add(Lambda(lambda x: x/255.0 - 0.5, input_shape=(64,64,3)))\n",
    "\n",
    "model.add(Convolution2D(3,1,1,border_mode='valid', name='conv0'))\n",
    "model.add(Convolution2D(16,3,3, activation='relu', name='conv1'))   #62x62x16 #80x300x16\n",
    "model.add(MaxPooling2D((2, 2), border_mode='valid', name='pool1'))  #31x31x16 #40x150x16\n",
    "                        \n",
    "model.add(Convolution2D(32,8,8, activation='relu'))   #24x24x32 #30x130x32\n",
    "model.add(MaxPooling2D((2, 2), border_mode='valid'))  #13x13x32 #15x65x32\n",
    "                        \n",
    "model.add(Flatten())\n",
    "                        \n",
    "model.add(Dense(256))\n",
    "model.add(ELU())\n",
    "model.add(Dropout(0.5))\n",
    "          \n",
    "model.add(Dense(100))\n",
    "model.add(ELU())\n",
    "model.add(Dropout(0.5))\n",
    "                        \n",
    "model.add(Dense(30))\n",
    "model.add(ELU())\n",
    "\n",
    "model.add(Dense(1))"
   ]
  },
  {
   "cell_type": "code",
   "execution_count": null,
   "metadata": {
    "collapsed": false
   },
   "outputs": [
    {
     "name": "stdout",
     "output_type": "stream",
     "text": [
      "____________________________________________________________________________________________________\n",
      "Layer (type)                     Output Shape          Param #     Connected to                     \n",
      "====================================================================================================\n",
      "lambda_1 (Lambda)                (None, 64, 64, 3)     0           lambda_input_1[0][0]             \n",
      "____________________________________________________________________________________________________\n",
      "convolution2d_1 (Convolution2D)  (None, 32, 32, 16)    1216        lambda_1[0][0]                   \n",
      "____________________________________________________________________________________________________\n",
      "elu_1 (ELU)                      (None, 32, 32, 16)    0           convolution2d_1[0][0]            \n",
      "____________________________________________________________________________________________________\n",
      "convolution2d_2 (Convolution2D)  (None, 15, 15, 32)    4640        elu_1[0][0]                      \n",
      "____________________________________________________________________________________________________\n",
      "elu_2 (ELU)                      (None, 15, 15, 32)    0           convolution2d_2[0][0]            \n",
      "____________________________________________________________________________________________________\n",
      "dropout_1 (Dropout)              (None, 15, 15, 32)    0           elu_2[0][0]                      \n",
      "____________________________________________________________________________________________________\n",
      "maxpooling2d_1 (MaxPooling2D)    (None, 7, 7, 32)      0           dropout_1[0][0]                  \n",
      "____________________________________________________________________________________________________\n",
      "convolution2d_3 (Convolution2D)  (None, 5, 5, 64)      18496       maxpooling2d_1[0][0]             \n",
      "____________________________________________________________________________________________________\n",
      "elu_3 (ELU)                      (None, 5, 5, 64)      0           convolution2d_3[0][0]            \n",
      "____________________________________________________________________________________________________\n",
      "dropout_2 (Dropout)              (None, 5, 5, 64)      0           elu_3[0][0]                      \n",
      "____________________________________________________________________________________________________\n",
      "flatten_1 (Flatten)              (None, 1600)          0           dropout_2[0][0]                  \n",
      "____________________________________________________________________________________________________\n",
      "dense_1 (Dense)                  (None, 1024)          1639424     flatten_1[0][0]                  \n",
      "____________________________________________________________________________________________________\n",
      "dropout_3 (Dropout)              (None, 1024)          0           dense_1[0][0]                    \n",
      "____________________________________________________________________________________________________\n",
      "elu_4 (ELU)                      (None, 1024)          0           dropout_3[0][0]                  \n",
      "____________________________________________________________________________________________________\n",
      "dense_2 (Dense)                  (None, 512)           524800      elu_4[0][0]                      \n",
      "____________________________________________________________________________________________________\n",
      "elu_5 (ELU)                      (None, 512)           0           dense_2[0][0]                    \n",
      "____________________________________________________________________________________________________\n",
      "dense_3 (Dense)                  (None, 1)             513         elu_5[0][0]                      \n",
      "====================================================================================================\n",
      "Total params: 2,189,089\n",
      "Trainable params: 2,189,089\n",
      "Non-trainable params: 0\n",
      "____________________________________________________________________________________________________\n",
      "None\n"
     ]
    }
   ],
   "source": [
    "model = Sequential()\n",
    "# Normalize\n",
    "#model.add(Lambda(lambda x: x/127.5 - 1.0,input_shape=(64,64,3)))\n",
    "model.add(Lambda(lambda x: x/255.0 - 0.5, input_shape=(64,64,3)))\n",
    "#model.add(Convolution2D(3,1,1,border_mode='valid', name='conv0'))\n",
    "# layer 1 output shape is 32x32x32\n",
    "model.add(Convolution2D(16, 5, 5, input_shape=(64, 64, 3), subsample=(2, 2), border_mode=\"same\"))\n",
    "model.add(ELU())\n",
    "# layer 2 output shape is 15x15x16\n",
    "model.add(Convolution2D(32, 3, 3, subsample=(2, 2), border_mode=\"valid\"))\n",
    "model.add(ELU())\n",
    "model.add(Dropout(.4))\n",
    "model.add(MaxPooling2D((2, 2), border_mode='valid'))\n",
    "# layer 3 output shape is 13x13x16\n",
    "model.add(Convolution2D(64, 3, 3, subsample=(1, 1), border_mode=\"valid\"))\n",
    "model.add(ELU())\n",
    "model.add(Dropout(.4))\n",
    "# Flatten the output\n",
    "model.add(Flatten())\n",
    "# layer 4\n",
    "model.add(Dense(1024))\n",
    "model.add(Dropout(.3))\n",
    "model.add(ELU())\n",
    "# layer 5\n",
    "model.add(Dense(512))\n",
    "model.add(ELU())\n",
    "# Finally a single output, since this is a regression problem\n",
    "model.add(Dense(1))\n",
    "\n",
    "print(model.summary())"
   ]
  },
  {
   "cell_type": "code",
   "execution_count": null,
   "metadata": {
    "collapsed": false
   },
   "outputs": [
    {
     "name": "stdout",
     "output_type": "stream",
     "text": [
      "Epoch 1/15\n",
      "6144/7744 [======================>.......] - ETA: 1s - loss: 0.1271"
     ]
    },
    {
     "name": "stderr",
     "output_type": "stream",
     "text": [
      "/home/carnd/anaconda3/lib/python3.5/site-packages/keras/engine/training.py:1573: UserWarning: Epoch comprised more than `samples_per_epoch` samples, which might affect learning results. Set `samples_per_epoch` correctly to avoid this warning.\n",
      "  warnings.warn('Epoch comprised more than '\n"
     ]
    },
    {
     "name": "stdout",
     "output_type": "stream",
     "text": [
      "8192/7744 [===============================] - 9s - loss: 0.1185 - val_loss: 0.0503\n",
      "Epoch 2/15\n",
      "8192/7744 [===============================] - 5s - loss: 0.0848 - val_loss: 0.0365\n",
      "Epoch 3/15\n",
      "8192/7744 [===============================] - 6s - loss: 0.0703 - val_loss: 0.0378\n",
      "Epoch 4/15\n",
      "8192/7744 [===============================] - 5s - loss: 0.0587 - val_loss: 0.0371\n",
      "Epoch 5/15\n",
      "8192/7744 [===============================] - 5s - loss: 0.0531 - val_loss: 0.0389\n",
      "Epoch 6/15\n",
      "8192/7744 [===============================] - 5s - loss: 0.0507 - val_loss: 0.0343\n",
      "Epoch 7/15\n",
      "8192/7744 [===============================] - 5s - loss: 0.0476 - val_loss: 0.0317\n",
      "Epoch 8/15\n",
      "6144/7744 [======================>.......] - ETA: 0s - loss: 0.0436"
     ]
    }
   ],
   "source": [
    "model.compile(loss='mse', optimizer=Adam(lr=1e-4))\n",
    "#model.fit(X_train, y_train,validation_split=0.2, shuffle=True, nb_epoch=7)\n",
    "history_object = model.fit_generator(train_generator, samples_per_epoch= \\\n",
    "            len(train_samples)*2, validation_data=validation_generator, \\\n",
    "            nb_val_samples=len(validation_samples)*2, nb_epoch=15, verbose=1)          #https://keras.io/models/sequential/#fit_generator\n",
    "\n",
    "### print the keys contained in the history object\n",
    "print(history_object.history.keys())\n",
    "\n",
    "### plot the training and validation loss for each epoch\n",
    "plt.plot(history_object.history['loss'])\n",
    "plt.plot(history_object.history['val_loss'])\n",
    "plt.title('model mean squared error loss')\n",
    "plt.ylabel('mean squared error loss')\n",
    "plt.xlabel('epoch')\n",
    "plt.legend(['training set', 'validation set'], loc='upper right')\n",
    "plt.show()\n",
    "\n",
    "model.save('model_test.h5')"
   ]
  },
  {
   "cell_type": "code",
   "execution_count": null,
   "metadata": {
    "collapsed": true
   },
   "outputs": [],
   "source": []
  }
 ],
 "metadata": {
  "anaconda-cloud": {},
  "kernelspec": {
   "display_name": "Python 3",
   "language": "python",
   "name": "python3"
  },
  "language_info": {
   "codemirror_mode": {
    "name": "ipython",
    "version": 3
   },
   "file_extension": ".py",
   "mimetype": "text/x-python",
   "name": "python",
   "nbconvert_exporter": "python",
   "pygments_lexer": "ipython3",
   "version": "3.5.2"
  },
  "widgets": {
   "state": {},
   "version": "1.1.2"
  }
 },
 "nbformat": 4,
 "nbformat_minor": 1
}
