{
 "cells": [
  {
   "cell_type": "code",
   "execution_count": 1,
   "metadata": {
    "collapsed": false
   },
   "outputs": [
    {
     "name": "stderr",
     "output_type": "stream",
     "text": [
      "Using TensorFlow backend.\n"
     ]
    }
   ],
   "source": [
    "import csv\n",
    "import cv2\n",
    "import numpy as np\n",
    "import sklearn\n",
    "from PIL import Image\n",
    "from sklearn.model_selection import train_test_split\n",
    "from sklearn.utils import shuffle\n",
    "from keras.models import Sequential\n",
    "from keras.layers.core import Dense, Flatten, Activation, Dropout, Lambda\n",
    "from keras.layers.convolutional import Convolution2D, Cropping2D\n",
    "from keras.layers.pooling import MaxPooling2D\n",
    "from keras.layers.advanced_activations import ELU\n",
    "from keras import regularizers\n",
    "from keras.regularizers import l2, activity_l2\n",
    "from keras.optimizers import Adam\n",
    "import math\n",
    "import matplotlib.pyplot as plt\n",
    "# Visualizations will be shown in the notebook.\n",
    "%matplotlib inline"
   ]
  },
  {
   "cell_type": "code",
   "execution_count": 3,
   "metadata": {
    "collapsed": false
   },
   "outputs": [
    {
     "name": "stdout",
     "output_type": "stream",
     "text": [
      "5044 4035 1008 ['IMG/center_2016_12_01_13_34_32_066.jpg', 'IMG/left_2016_12_01_13_34_32_066.jpg', 'IMG/right_2016_12_01_13_34_32_066.jpg', '0.1765823', '0.9855326', '0', '30.17848']\n"
     ]
    }
   ],
   "source": [
    "samples = []\n",
    "#csv_path = ['data/data/driving_log.csv', 'data/ds1/driving_log.csv', 'data/DSReverse/driving_log.csv']\n",
    "csv_path = ['data/data/driving_log.csv', 'data/ds1/driving_log.csv', 'data/DSReverse/driving_log.csv', \\\n",
    "            'data/data/data_pat/track1_central/driving_log.csv', 'data/data/data_pat/track1_recovery/driving_log.csv', \\\n",
    "            'data/data/data_pat/track1_recovery_reverse/driving_log.csv', 'data/data/data_pat/track1_reverse/driving_log.csv']\n",
    "for j in range(3):\n",
    "    if j==8:\n",
    "        # 0 = my own data, 1 = Udacity supplied data , any other no = use both dataset\n",
    "        print('not using dataset ', j)\n",
    "        continue\n",
    "    with open(csv_path[j]) as csvfile:\n",
    "        #csvlines = csvfile.readlines()  # if we use this method then comment below 3 lines and replace samples by csvlines\n",
    "        reader = csv.reader(csvfile)\n",
    "        for line in reader:\n",
    "             # skip it if ~0 speed - not representative of driving behavior\n",
    "            if float(line[6]) < 0.1 :\n",
    "                continue\n",
    "            if (float(line[3])>0.01 and float(line[3])<0.99) or (float(line[3])>-0.99 and float(line[3])<-0.01):\n",
    "                samples.append(line)\n",
    "            else:\n",
    "                select_prob = np.random.random()\n",
    "                if select_prob > 0.85:\n",
    "                    samples.append(line)\n",
    "                \n",
    "            #samples.append(line)\n",
    "        \n",
    "set_size = len(samples)\n",
    "train_samples = samples[:math.floor(set_size*0.8)]\n",
    "validation_samples = samples[math.ceil(set_size*0.8):]        \n",
    "#train_samples, validation_samples = train_test_split(samples, test_size=0.2)\n",
    "print (len(samples), len(train_samples), len(validation_samples), samples[550])\n",
    "a= np.array(samples)"
   ]
  },
  {
   "cell_type": "code",
   "execution_count": 4,
   "metadata": {
    "collapsed": false
   },
   "outputs": [
    {
     "name": "stdout",
     "output_type": "stream",
     "text": [
      "[-1.   -0.92 -0.84 -0.76 -0.68 -0.6  -0.52 -0.44 -0.36 -0.28 -0.2  -0.12\n",
      " -0.04  0.04  0.12  0.2   0.28  0.36  0.44  0.52  0.6   0.68  0.76  0.84\n",
      "  0.92  1.  ] [  67    3    9   15   16   16   64   66  135  231  368  716 1597  643  664\n",
      "  138  154   48   35    6    8    2    0    1   42    1]\n"
     ]
    },
    {
     "data": {
      "image/png": "[encoded data removed]",
      "text/plain": [
       "<matplotlib.figure.Figure at 0x7f89887bba58>"
      ]
     },
     "metadata": {},
     "output_type": "display_data"
    }
   ],
   "source": [
    "# print a histogram to see which steering angle ranges are most overrepresented\n",
    "a_angles = a[:,3].astype(np.float)\n",
    "num_bins = 25\n",
    "avg_samples_per_bin = len(a)/num_bins\n",
    "hist, bins = np.histogram(a_angles, num_bins)\n",
    "width = 0.8 * (bins[1] - bins[0])\n",
    "center = (bins[:-1] + bins[1:]) / 2\n",
    "plt.bar(center, hist, align='center', width=width)\n",
    "plt.plot((np.min(a_angles), np.max(a_angles)), (avg_samples_per_bin, avg_samples_per_bin), 'k-')\n",
    "\n",
    "hist = np.concatenate((hist, [1]))  # because no of bins are 26 (0 to 25), but no of hist were 25.(see print(bins, hist) below)\n",
    "print(bins, hist)"
   ]
  },
  {
   "cell_type": "code",
   "execution_count": 5,
   "metadata": {
    "collapsed": true
   },
   "outputs": [],
   "source": [
    "def read_image(row):\n",
    "    \n",
    "    steering_center = float(row[3])\n",
    "    # create adjusted steering measurements for the side camera images\n",
    "    offset=1.0 \n",
    "    dist=10.0\n",
    "    correction = offset/dist * 360/( 2*np.pi) / 25.0     #17# this is a parameter to tune\n",
    "    \n",
    "    # read in images from center, left and right cameras\n",
    "    path = 'data/data/' # fill in the path to your training IMG directory\n",
    "    \n",
    "    camera = np.random.choice(['center', 'left', 'right'], p=[0.3,0.35,0.35])\n",
    "    \n",
    "    if camera == \"center\" :    \n",
    "        img = np.asarray(Image.open(path+row[0]))\n",
    "        steering = steering_center\n",
    "    elif camera == \"left\" :    \n",
    "        img = np.asarray(Image.open(path+row[1]))\n",
    "        steering = steering_center + correction\n",
    "    elif camera == \"right\" :    \n",
    "        img = np.asarray(Image.open(path + row[2]))\n",
    "        steering = steering_center - correction\n",
    "    else:\n",
    "         print ('Invalid camera or path :',camera, row )\n",
    "    \n",
    "    return img, steering"
   ]
  },
  {
   "cell_type": "code",
   "execution_count": 6,
   "metadata": {
    "collapsed": true
   },
   "outputs": [],
   "source": [
    "def transform_image(image,steering,ang_range,shear_range,trans_range):\n",
    "# Rotation\n",
    "    ang_rot = np.random.uniform(ang_range)-ang_range/2\n",
    "    rows,cols,ch = image.shape    \n",
    "    Rot_M = cv2.getRotationMatrix2D((cols/2,rows/2),ang_rot,1)\n",
    "# Translation\n",
    "    tr_x = trans_range*np.random.uniform()-trans_range/2\n",
    "    tr_y = trans_range*np.random.uniform()-trans_range/2\n",
    "    Trans_M = np.float32([[1,0,tr_x],[0,1,tr_y]])\n",
    "# Shear\n",
    "    rows,cols,ch = image.shape\n",
    "    dx = np.random.randint(-shear_range,shear_range+1)\n",
    "    #    print('dx',dx)\n",
    "    random_point = [cols/2+dx,rows/2]\n",
    "    pts1 = np.float32([[0,rows],[cols,rows],[cols/2,rows/2]])\n",
    "    pts2 = np.float32([[0,rows],[cols,rows],random_point])\n",
    "    M = cv2.getAffineTransform(pts1,pts2)\n",
    "    dsteering = dx/(rows/2) * 360/(2*np.pi*25.0) / 6.0    \n",
    "    steering +=dsteering\n",
    "        \n",
    "    image = cv2.warpAffine(image,Rot_M,(cols,rows))\n",
    "    image = cv2.warpAffine(image,Trans_M,(cols,rows))\n",
    "    image = cv2.warpAffine(image,M,(cols,rows),borderMode=1)\n",
    "    \n",
    "    #image2 = np.zeros(X_train[0].shape, dtype='u1')\n",
    "    # Preprocessing \n",
    "    #image2 = brightness_process_image(image,image2)     # brightness Normalization & Augmentaion\n",
    "    \n",
    "    return image,steering"
   ]
  },
  {
   "cell_type": "code",
   "execution_count": 7,
   "metadata": {
    "collapsed": false
   },
   "outputs": [],
   "source": [
    "def crop_image(image, cam_angle=0.0, train = True):\n",
    "    \n",
    "    tx_lower=-20\n",
    "    tx_upper=20\n",
    "    ty_lower=-10\n",
    "    ty_upper=10\n",
    "    shape = image.shape\n",
    "    steering = 0.0\n",
    "    \n",
    "    # note: numpy arrays are (row, col)!\n",
    "    \n",
    "    #tx and ty are random no of pixels # only for training data\n",
    "    if train:\n",
    "        tx= np.random.randint(tx_lower,tx_upper+1)\n",
    "        ty= np.random.randint(ty_lower,ty_upper+1)\n",
    "        # the steering variable needs to be updated to counteract the shift \n",
    "        if tx != 0:\n",
    "            steering = tx/(tx_upper-tx_lower)/3.0   #tx can be +ve or -ve (between -20 and 20)\n",
    "    else:\n",
    "        tx,ty=0,0   #for  validation data, turn randomness off\n",
    "\n",
    "    \n",
    "    #image cropping top:1/4th of height, bottom: 25px, left:20px, right:20px\n",
    "    image = image[math.floor(shape[0]/4)+ty:shape[0]-25+ty, 20+tx:shape[1]-20+tx]\n",
    "    image = cv2.resize(image, (64, 64))\n",
    "    cam_angle += steering\n",
    "    \n",
    "    return image,cam_angle"
   ]
  },
  {
   "cell_type": "code",
   "execution_count": 8,
   "metadata": {
    "collapsed": true
   },
   "outputs": [],
   "source": [
    "def flip_image(image,cam_angle):\n",
    "    img_flipped = np.fliplr(image)\n",
    "    cam_angle_flipped = -cam_angle\n",
    "    \n",
    "    return img_flipped,cam_angle_flipped"
   ]
  },
  {
   "cell_type": "code",
   "execution_count": 9,
   "metadata": {
    "collapsed": false
   },
   "outputs": [],
   "source": [
    "def random_brightness(image):\n",
    "    image1 = cv2.cvtColor(image,cv2.COLOR_RGB2HSV)\n",
    "    random_bright = 0.8 + 0.4*(2*np.random.uniform()-1.0)    \n",
    "    image1[:,:,2] = image1[:,:,2]*random_bright\n",
    "    image1 = cv2.cvtColor(image1,cv2.COLOR_HSV2RGB)\n",
    "    return image1"
   ]
  },
  {
   "cell_type": "code",
   "execution_count": 16,
   "metadata": {
    "collapsed": false
   },
   "outputs": [],
   "source": [
    "def Augmentation(row, car_images=[], steering_angles=[], augment=False):\n",
    "    \n",
    "    \n",
    "    image, cam_angle = read_image(row)\n",
    "    \n",
    "    image, cam_angle = transform_image(image, cam_angle, 2, 10, 2)\n",
    "    \n",
    "    image, cam_angle = crop_image(image, cam_angle, augment)\n",
    "    \n",
    "    image = random_brightness(image)\n",
    "    \n",
    "    # add images and angles to data set\n",
    "    car_images.append(image)\n",
    "    steering_angles.append(cam_angle)\n",
    "    \n",
    "    coin=np.random.randint(0,2)\n",
    "    if coin==0 or coin==1:    \n",
    "        image_flipped, cam_angle_flipped = flip_image(image,cam_angle)\n",
    "        # add images and angles to data set\n",
    "        car_images.append(image_flipped)\n",
    "        steering_angles.append(cam_angle_flipped)\n",
    "    \n",
    "    \n",
    "    return car_images, steering_angles"
   ]
  },
  {
   "cell_type": "raw",
   "metadata": {
    "collapsed": true
   },
   "source": [
    "def Augmentation_None(row, car_images, steering_angles):\n",
    "    \n",
    "    car_images, steering_angles = read_image(row)\n",
    "    \n",
    "    \n",
    "    \n",
    "    car_images, steering_angles = crop(car_images, steering_angles, train = False)\n",
    "    \n",
    "    # add images and angles to data set\n",
    "    car_images.append(img_center)\n",
    "    car_images.append(img_center_flipped)\n",
    "    car_images.append(img_left)\n",
    "    car_images.append(img_left_flipped)\n",
    "    car_images.append(img_right)\n",
    "    car_images.append(img_right_flipped)\n",
    "    steering_angles.append(steering_center)\n",
    "    steering_angles.append(-steering_center)\n",
    "    steering_angles.append(steering_left)\n",
    "    steering_angles.append(-steering_left)\n",
    "    steering_angles.append(steering_right)\n",
    "    steering_angles.append(-steering_right)"
   ]
  },
  {
   "cell_type": "code",
   "execution_count": 18,
   "metadata": {
    "collapsed": false
   },
   "outputs": [
    {
     "data": {
      "image/png": "[encoded data removed]",
      "text/plain": [
       "<matplotlib.figure.Figure at 0x7f8985d44d68>"
      ]
     },
     "metadata": {},
     "output_type": "display_data"
    }
   ],
   "source": [
    "#Sample example\n",
    "\n",
    "car_images_test = []\n",
    "steering_angles_test = []\n",
    "\n",
    "car_images_test, steering_angles_test = Augmentation(a[300], car_images_test, steering_angles_test, True)\n",
    "for i in range(2):\n",
    "    image = car_images_test[i]\n",
    "    plt.subplot(1, 2, i+1)\n",
    "    plt.tight_layout()\n",
    "    #print(steering_angles[i])\n",
    "    plt.imshow(image, aspect='auto')\n",
    "    plt.title(steering_angles_test[i])\n",
    "    plt.axis('off')"
   ]
  },
  {
   "cell_type": "code",
   "execution_count": 19,
   "metadata": {
    "collapsed": false
   },
   "outputs": [],
   "source": [
    "def generator(samples, augment=True, batch_size=256):\n",
    "    num_samples = int(len(samples)/2.7)\n",
    "    while 1: # Loop forever so the generator never terminates\n",
    "        shuffle(samples)\n",
    "        for offset in range(0, num_samples, batch_size):\n",
    "            batch_samples = samples[offset:offset+batch_size]\n",
    "\n",
    "            car_images = []\n",
    "            steering_angles = []\n",
    "\n",
    "            for row in batch_samples:\n",
    "                if augment==True:\n",
    "                    car_images, steering_angles = Augmentation(row, car_images, steering_angles)\n",
    "                else:\n",
    "                    car_images, steering_angles = Augmentation(row, car_images, steering_angles, False)\n",
    "\n",
    "            # trim image to only see section with road\n",
    "            X_train = np.array(car_images)\n",
    "            y_train = np.array(steering_angles)\n",
    "            #print(X_train.shape, y_train.shape)\n",
    "            yield sklearn.utils.shuffle(X_train, y_train)"
   ]
  },
  {
   "cell_type": "code",
   "execution_count": null,
   "metadata": {
    "collapsed": true
   },
   "outputs": [],
   "source": []
  },
  {
   "cell_type": "code",
   "execution_count": 20,
   "metadata": {
    "collapsed": false
   },
   "outputs": [],
   "source": [
    "# compile and train the model using the generator function\n",
    "train_generator = generator(train_samples, augment=True, batch_size=256)\n",
    "validation_generator = generator(validation_samples, augment=False, batch_size=256)"
   ]
  },
  {
   "cell_type": "code",
   "execution_count": 21,
   "metadata": {
    "collapsed": false
   },
   "outputs": [
    {
     "name": "stdout",
     "output_type": "stream",
     "text": [
      "____________________________________________________________________________________________________\n",
      "Layer (type)                     Output Shape          Param #     Connected to                     \n",
      "====================================================================================================\n",
      "lambda_1 (Lambda)                (None, 64, 64, 3)     0           lambda_input_1[0][0]             \n",
      "____________________________________________________________________________________________________\n",
      "convolution2d_1 (Convolution2D)  (None, 32, 32, 16)    1216        lambda_1[0][0]                   \n",
      "____________________________________________________________________________________________________\n",
      "elu_1 (ELU)                      (None, 32, 32, 16)    0           convolution2d_1[0][0]            \n",
      "____________________________________________________________________________________________________\n",
      "convolution2d_2 (Convolution2D)  (None, 15, 15, 32)    4640        elu_1[0][0]                      \n",
      "____________________________________________________________________________________________________\n",
      "elu_2 (ELU)                      (None, 15, 15, 32)    0           convolution2d_2[0][0]            \n",
      "____________________________________________________________________________________________________\n",
      "dropout_1 (Dropout)              (None, 15, 15, 32)    0           elu_2[0][0]                      \n",
      "____________________________________________________________________________________________________\n",
      "maxpooling2d_1 (MaxPooling2D)    (None, 7, 7, 32)      0           dropout_1[0][0]                  \n",
      "____________________________________________________________________________________________________\n",
      "convolution2d_3 (Convolution2D)  (None, 5, 5, 64)      18496       maxpooling2d_1[0][0]             \n",
      "____________________________________________________________________________________________________\n",
      "elu_3 (ELU)                      (None, 5, 5, 64)      0           convolution2d_3[0][0]            \n",
      "____________________________________________________________________________________________________\n",
      "dropout_2 (Dropout)              (None, 5, 5, 64)      0           elu_3[0][0]                      \n",
      "____________________________________________________________________________________________________\n",
      "flatten_1 (Flatten)              (None, 1600)          0           dropout_2[0][0]                  \n",
      "____________________________________________________________________________________________________\n",
      "dense_1 (Dense)                  (None, 1024)          1639424     flatten_1[0][0]                  \n",
      "____________________________________________________________________________________________________\n",
      "dropout_3 (Dropout)              (None, 1024)          0           dense_1[0][0]                    \n",
      "____________________________________________________________________________________________________\n",
      "elu_4 (ELU)                      (None, 1024)          0           dropout_3[0][0]                  \n",
      "____________________________________________________________________________________________________\n",
      "dense_2 (Dense)                  (None, 512)           524800      elu_4[0][0]                      \n",
      "____________________________________________________________________________________________________\n",
      "elu_5 (ELU)                      (None, 512)           0           dense_2[0][0]                    \n",
      "____________________________________________________________________________________________________\n",
      "dense_3 (Dense)                  (None, 1)             513         elu_5[0][0]                      \n",
      "====================================================================================================\n",
      "Total params: 2,189,089\n",
      "Trainable params: 2,189,089\n",
      "Non-trainable params: 0\n",
      "____________________________________________________________________________________________________\n",
      "None\n"
     ]
    }
   ],
   "source": [
    "model = Sequential()\n",
    "# Normalize\n",
    "#model.add(Lambda(lambda x: x/127.5 - 1.0,input_shape=(64,64,3)))\n",
    "model.add(Lambda(lambda x: x/255.0 - 0.5, input_shape=(64,64,3)))\n",
    "#model.add(Convolution2D(3,1,1,border_mode='valid', name='conv0'))\n",
    "# layer 1 output shape is 32x32x32\n",
    "model.add(Convolution2D(16, 5, 5, input_shape=(64, 64, 3), subsample=(2, 2), border_mode=\"same\"))\n",
    "model.add(ELU())\n",
    "# layer 2 output shape is 15x15x16\n",
    "model.add(Convolution2D(32, 3, 3, subsample=(2, 2), border_mode=\"valid\"))\n",
    "model.add(ELU())\n",
    "model.add(Dropout(.4))\n",
    "model.add(MaxPooling2D((2, 2), border_mode='valid'))\n",
    "# layer 3 output shape is 13x13x16\n",
    "model.add(Convolution2D(64, 3, 3, subsample=(1, 1), border_mode=\"valid\"))\n",
    "model.add(ELU())\n",
    "model.add(Dropout(.4))\n",
    "# Flatten the output\n",
    "model.add(Flatten())\n",
    "# layer 4\n",
    "model.add(Dense(1024))\n",
    "model.add(Dropout(.3))\n",
    "model.add(ELU())\n",
    "# layer 5\n",
    "model.add(Dense(512))\n",
    "model.add(ELU())\n",
    "# Finally a single output, since this is a regression problem\n",
    "model.add(Dense(1))\n",
    "\n",
    "print(model.summary())"
   ]
  },
  {
   "cell_type": "code",
   "execution_count": 14,
   "metadata": {
    "collapsed": false
   },
   "outputs": [
    {
     "name": "stdout",
     "output_type": "stream",
     "text": [
      "Epoch 1/8\n",
      "15872/16246 [============================>.] - ETA: 0s - loss: 0.0937"
     ]
    },
    {
     "name": "stderr",
     "output_type": "stream",
     "text": [
      "/home/carnd/anaconda3/lib/python3.5/site-packages/keras/engine/training.py:1573: UserWarning: Epoch comprised more than `samples_per_epoch` samples, which might affect learning results. Set `samples_per_epoch` correctly to avoid this warning.\n",
      "  warnings.warn('Epoch comprised more than '\n"
     ]
    },
    {
     "name": "stdout",
     "output_type": "stream",
     "text": [
      "16384/16246 [==============================] - 34s - loss: 0.0925 - val_loss: 0.0527\n",
      "Epoch 2/8\n",
      "16384/16246 [==============================] - 24s - loss: 0.0573 - val_loss: 0.0479\n",
      "Epoch 3/8\n",
      "16384/16246 [==============================] - 26s - loss: 0.0502 - val_loss: 0.0485\n",
      "Epoch 4/8\n",
      "16384/16246 [==============================] - 24s - loss: 0.0462 - val_loss: 0.0484\n",
      "Epoch 5/8\n",
      "16384/16246 [==============================] - 24s - loss: 0.0427 - val_loss: 0.0469\n",
      "Epoch 6/8\n",
      "16384/16246 [==============================] - 24s - loss: 0.0430 - val_loss: 0.0450\n",
      "Epoch 7/8\n",
      "16384/16246 [==============================] - 24s - loss: 0.0418 - val_loss: 0.0472\n",
      "Epoch 8/8\n",
      "16384/16246 [==============================] - 24s - loss: 0.0411 - val_loss: 0.0447\n",
      "dict_keys(['val_loss', 'loss'])\n"
     ]
    },
    {
     "data": {
      "image/png": "[encoded data removed]",
      "text/plain": [
       "<matplotlib.figure.Figure at 0x7f51f56e9320>"
      ]
     },
     "metadata": {},
     "output_type": "display_data"
    }
   ],
   "source": [
    "model.compile(loss='mse', optimizer=Adam(lr=1e-4))\n",
    "#model.fit(X_train, y_train,validation_split=0.2, shuffle=True, nb_epoch=7)\n",
    "history_object = model.fit_generator(train_generator, samples_per_epoch= \\\n",
    "            len(train_samples)*2, validation_data=validation_generator, \\\n",
    "            nb_val_samples=len(validation_samples)*2, nb_epoch=8, verbose=1)          #https://keras.io/models/sequential/#fit_generator\n",
    "\n",
    "### print the keys contained in the history object\n",
    "print(history_object.history.keys())\n",
    "\n",
    "### plot the training and validation loss for each epoch\n",
    "plt.plot(history_object.history['loss'])\n",
    "plt.plot(history_object.history['val_loss'])\n",
    "plt.title('model mean squared error loss')\n",
    "plt.ylabel('mean squared error loss')\n",
    "plt.xlabel('epoch')\n",
    "plt.legend(['training set', 'validation set'], loc='upper right')\n",
    "plt.show()\n",
    "\n",
    "model.save('model_test.h5')"
   ]
  },
  {
   "cell_type": "code",
   "execution_count": null,
   "metadata": {
    "collapsed": true
   },
   "outputs": [],
   "source": []
  }
 ],
 "metadata": {
  "anaconda-cloud": {},
  "kernelspec": {
   "display_name": "Python 3",
   "language": "python",
   "name": "python3"
  },
  "language_info": {
   "codemirror_mode": {
    "name": "ipython",
    "version": 3
   },
   "file_extension": ".py",
   "mimetype": "text/x-python",
   "name": "python",
   "nbconvert_exporter": "python",
   "pygments_lexer": "ipython3",
   "version": "3.5.2"
  },
  "widgets": {
   "state": {},
   "version": "1.1.2"
  }
 },
 "nbformat": 4,
 "nbformat_minor": 1
}
