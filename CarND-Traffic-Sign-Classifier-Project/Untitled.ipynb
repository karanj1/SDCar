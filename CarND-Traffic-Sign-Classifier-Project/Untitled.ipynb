{
 "cells": [
  {
   "cell_type": "code",
   "execution_count": 1,
   "metadata": {
    "collapsed": false
   },
   "outputs": [
    {
     "data": {
      "text/plain": [
       "<twilio.rest.resources.messages.Message at 0x7fd60c7e7b00>"
      ]
     },
     "execution_count": 1,
     "metadata": {},
     "output_type": "execute_result"
    }
   ],
   "source": [
    "# we import the Twilio client from the dependency we just installed\n",
    "from twilio.rest import TwilioRestClient\n",
    "\n",
    "# the following line needs your Twilio Account SID and Auth Token\n",
    "client = TwilioRestClient(\"AC30533cc04155731bca1e5a3eff7c16b4\", \"1c6dfb9adc0e9190ac8cae2a13c6414c\")\n",
    "\n",
    "# change the \"from_\" number to your Twilio number and the \"to\" number\n",
    "# to the phone number you signed up for Twilio with, or upgrade your\n",
    "# account to send SMS to any phone number\n",
    "client.messages.create(to=\"+18322712158\", from_=\"+15629121012\", \n",
    "                       body=\"Hello from Python!\")"
   ]
  },
  {
   "cell_type": "code",
   "execution_count": null,
   "metadata": {
    "collapsed": true
   },
   "outputs": [],
   "source": []
  }
 ],
 "metadata": {
  "kernelspec": {
   "display_name": "Python 3",
   "language": "python",
   "name": "python3"
  },
  "language_info": {
   "codemirror_mode": {
    "name": "ipython",
    "version": 3
   },
   "file_extension": ".py",
   "mimetype": "text/x-python",
   "name": "python",
   "nbconvert_exporter": "python",
   "pygments_lexer": "ipython3",
   "version": "3.5.2"
  },
  "widgets": {
   "state": {},
   "version": "1.1.2"
  }
 },
 "nbformat": 4,
 "nbformat_minor": 2
}
